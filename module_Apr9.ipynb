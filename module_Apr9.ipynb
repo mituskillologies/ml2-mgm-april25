{
 "cells": [
  {
   "cell_type": "code",
   "execution_count": 2,
   "id": "10575878-69b6-4caf-900a-49343261a866",
   "metadata": {},
   "outputs": [
    {
     "ename": "NameError",
     "evalue": "name 'show' is not defined",
     "output_type": "error",
     "traceback": [
      "\u001b[0;31m---------------------------------------------------------------------------\u001b[0m",
      "\u001b[0;31mNameError\u001b[0m                                 Traceback (most recent call last)",
      "Cell \u001b[0;32mIn[2], line 1\u001b[0m\n\u001b[0;32m----> 1\u001b[0m show()\n",
      "\u001b[0;31mNameError\u001b[0m: name 'show' is not defined"
     ]
    }
   ],
   "source": [
    "show()"
   ]
  },
  {
   "cell_type": "code",
   "execution_count": 4,
   "id": "87ee0a78-98f3-4c14-801d-f4f67758d394",
   "metadata": {},
   "outputs": [],
   "source": [
    "import mod1"
   ]
  },
  {
   "cell_type": "code",
   "execution_count": 6,
   "id": "f6737d63-2a2f-4e86-8b4d-8d6af88d4581",
   "metadata": {},
   "outputs": [
    {
     "name": "stdout",
     "output_type": "stream",
     "text": [
      "module is working\n"
     ]
    }
   ],
   "source": [
    "mod1.show()"
   ]
  },
  {
   "cell_type": "code",
   "execution_count": 8,
   "id": "fc496b81-5d9e-462f-b32f-a1228c14e970",
   "metadata": {},
   "outputs": [
    {
     "data": {
      "text/plain": [
       "'mod1'"
      ]
     },
     "execution_count": 8,
     "metadata": {},
     "output_type": "execute_result"
    }
   ],
   "source": [
    "mod1.__name__"
   ]
  },
  {
   "cell_type": "code",
   "execution_count": null,
   "id": "3fce0d8b-b6cf-40ac-b713-aa18e42b3203",
   "metadata": {},
   "outputs": [],
   "source": []
  }
 ],
 "metadata": {
  "kernelspec": {
   "display_name": "Python 3 (ipykernel)",
   "language": "python",
   "name": "python3"
  },
  "language_info": {
   "codemirror_mode": {
    "name": "ipython",
    "version": 3
   },
   "file_extension": ".py",
   "mimetype": "text/x-python",
   "name": "python",
   "nbconvert_exporter": "python",
   "pygments_lexer": "ipython3",
   "version": "3.12.4"
  }
 },
 "nbformat": 4,
 "nbformat_minor": 5
}
