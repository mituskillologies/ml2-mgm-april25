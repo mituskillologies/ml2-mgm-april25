{
 "cells": [
  {
   "cell_type": "code",
   "execution_count": 1,
   "id": "a39f9cbc-3c84-4a7f-8ea0-d7a02df9c425",
   "metadata": {},
   "outputs": [
    {
     "name": "stdout",
     "output_type": "stream",
     "text": [
      "Hello World\n"
     ]
    }
   ],
   "source": [
    "print(\"Hello World\")"
   ]
  },
  {
   "cell_type": "code",
   "execution_count": 3,
   "id": "08980168-9dba-46fc-ad36-eaf8cb34f8ab",
   "metadata": {},
   "outputs": [],
   "source": [
    "num = 12"
   ]
  },
  {
   "cell_type": "code",
   "execution_count": 5,
   "id": "dd2cf4b9-5670-4ea6-99c6-843711de6ee6",
   "metadata": {},
   "outputs": [
    {
     "data": {
      "text/plain": [
       "int"
      ]
     },
     "execution_count": 5,
     "metadata": {},
     "output_type": "execute_result"
    }
   ],
   "source": [
    "type(num)"
   ]
  },
  {
   "cell_type": "code",
   "execution_count": 7,
   "id": "a71d38bb-a7ca-411a-b5b1-7a07b6297a65",
   "metadata": {},
   "outputs": [],
   "source": [
    "num1 = 10e5"
   ]
  },
  {
   "cell_type": "code",
   "execution_count": 9,
   "id": "ec15c210-760b-41d2-b46d-9baea124ed89",
   "metadata": {},
   "outputs": [
    {
     "data": {
      "text/plain": [
       "float"
      ]
     },
     "execution_count": 9,
     "metadata": {},
     "output_type": "execute_result"
    }
   ],
   "source": [
    "type(num1)"
   ]
  },
  {
   "cell_type": "code",
   "execution_count": 11,
   "id": "2cee6d30-efe8-4021-8880-5dda5b50c4bc",
   "metadata": {},
   "outputs": [
    {
     "data": {
      "text/plain": [
       "1000000.0"
      ]
     },
     "execution_count": 11,
     "metadata": {},
     "output_type": "execute_result"
    }
   ],
   "source": [
    "num1"
   ]
  },
  {
   "cell_type": "code",
   "execution_count": 13,
   "id": "1e05d01b-223e-4323-bfa2-850a08a59177",
   "metadata": {},
   "outputs": [],
   "source": [
    "name = \"Raj\"\n",
    "marks = 76"
   ]
  },
  {
   "cell_type": "code",
   "execution_count": 15,
   "id": "b84fc16e-141e-4a95-9301-7286855df36e",
   "metadata": {},
   "outputs": [],
   "source": [
    "# my name is Raj and marks are 76"
   ]
  },
  {
   "cell_type": "code",
   "execution_count": 17,
   "id": "a57632ff-d87d-40a2-b5b1-22702693f991",
   "metadata": {},
   "outputs": [
    {
     "name": "stdout",
     "output_type": "stream",
     "text": [
      "my name is Raj and marks are 76\n"
     ]
    }
   ],
   "source": [
    "print(\"my name is\", name, \"and marks are\", marks)"
   ]
  },
  {
   "cell_type": "code",
   "execution_count": 23,
   "id": "d8d5a20f-1ae2-4409-a563-d3c3650519c6",
   "metadata": {},
   "outputs": [
    {
     "name": "stdout",
     "output_type": "stream",
     "text": [
      "my name is Raj and marks are 76\n"
     ]
    }
   ],
   "source": [
    "print(\"my name is %s and marks are %i\" %(name, marks))"
   ]
  },
  {
   "cell_type": "code",
   "execution_count": 25,
   "id": "69a106ce-f8d4-4c7d-a660-4aa3f1d166a6",
   "metadata": {},
   "outputs": [
    {
     "name": "stdout",
     "output_type": "stream",
     "text": [
      "my name is Raj and marks are 76.00\n"
     ]
    }
   ],
   "source": [
    "print(\"my name is %s and marks are %.2f\" %(name, marks))"
   ]
  },
  {
   "cell_type": "code",
   "execution_count": 29,
   "id": "ba40aa94-d95d-495a-bd88-984aa524f63e",
   "metadata": {},
   "outputs": [
    {
     "name": "stdout",
     "output_type": "stream",
     "text": [
      "my name is Raj and marks are 76\n"
     ]
    }
   ],
   "source": [
    "print(f\"my name is {name} and marks are {marks}\")"
   ]
  },
  {
   "cell_type": "code",
   "execution_count": 31,
   "id": "5a297af9-114a-47ba-b6a5-4402b82719ef",
   "metadata": {},
   "outputs": [
    {
     "ename": "SyntaxError",
     "evalue": "invalid syntax (1229414940.py, line 1)",
     "output_type": "error",
     "traceback": [
      "\u001b[0;36m  Cell \u001b[0;32mIn[31], line 1\u001b[0;36m\u001b[0m\n\u001b[0;31m    pass = 10\u001b[0m\n\u001b[0m         ^\u001b[0m\n\u001b[0;31mSyntaxError\u001b[0m\u001b[0;31m:\u001b[0m invalid syntax\n"
     ]
    }
   ],
   "source": [
    "pass = 10"
   ]
  },
  {
   "cell_type": "code",
   "execution_count": 33,
   "id": "5b215c35-89b6-4c27-ad43-57ffb4028aee",
   "metadata": {},
   "outputs": [],
   "source": [
    "Pass = 10"
   ]
  },
  {
   "cell_type": "code",
   "execution_count": 37,
   "id": "78a12bbb-487d-423e-8772-663aed5851a4",
   "metadata": {},
   "outputs": [],
   "source": [
    "name = \"Ajinkya\"\n",
    "marks = \"78\""
   ]
  },
  {
   "cell_type": "code",
   "execution_count": 39,
   "id": "3f3165b4-039c-415a-b891-ddb058070423",
   "metadata": {},
   "outputs": [
    {
     "data": {
      "text/plain": [
       "'Ajinkya78'"
      ]
     },
     "execution_count": 39,
     "metadata": {},
     "output_type": "execute_result"
    }
   ],
   "source": [
    "name + marks"
   ]
  },
  {
   "cell_type": "code",
   "execution_count": 41,
   "id": "58e31d1d-f7b9-443e-8f6d-418b39e7a97e",
   "metadata": {},
   "outputs": [
    {
     "data": {
      "text/plain": [
       "'Ajinkya 78'"
      ]
     },
     "execution_count": 41,
     "metadata": {},
     "output_type": "execute_result"
    }
   ],
   "source": [
    "name + \" \" + marks"
   ]
  },
  {
   "cell_type": "code",
   "execution_count": 45,
   "id": "c5da8cb1-c373-42c9-88e1-846510b31a6d",
   "metadata": {},
   "outputs": [],
   "source": [
    "name = \" Rankit \""
   ]
  },
  {
   "cell_type": "code",
   "execution_count": 49,
   "id": "48ef3c2c-8164-4b24-abf5-129ebbfb970e",
   "metadata": {},
   "outputs": [
    {
     "data": {
      "text/plain": [
       "False"
      ]
     },
     "execution_count": 49,
     "metadata": {},
     "output_type": "execute_result"
    }
   ],
   "source": [
    "name.startswith(\"R\")"
   ]
  },
  {
   "cell_type": "code",
   "execution_count": 51,
   "id": "01c5caae-770b-44f9-a2ca-006e7158d71d",
   "metadata": {},
   "outputs": [
    {
     "data": {
      "text/plain": [
       "' Rankit '"
      ]
     },
     "execution_count": 51,
     "metadata": {},
     "output_type": "execute_result"
    }
   ],
   "source": [
    "name"
   ]
  },
  {
   "cell_type": "code",
   "execution_count": 53,
   "id": "d3a0efc1-8d49-4f1d-b960-18412fc399f2",
   "metadata": {},
   "outputs": [
    {
     "name": "stdout",
     "output_type": "stream",
     "text": [
      " Rankit \n"
     ]
    }
   ],
   "source": [
    "print(name)"
   ]
  },
  {
   "cell_type": "code",
   "execution_count": 57,
   "id": "913846fd-a5db-4bc2-9beb-e4e6e034d5bc",
   "metadata": {},
   "outputs": [
    {
     "data": {
      "text/plain": [
       "True"
      ]
     },
     "execution_count": 57,
     "metadata": {},
     "output_type": "execute_result"
    }
   ],
   "source": [
    "name.startswith(\" Ra\")"
   ]
  },
  {
   "cell_type": "code",
   "execution_count": 59,
   "id": "7c8f4882-a159-41e6-be8b-187144283b7d",
   "metadata": {},
   "outputs": [
    {
     "data": {
      "text/plain": [
       "True"
      ]
     },
     "execution_count": 59,
     "metadata": {},
     "output_type": "execute_result"
    }
   ],
   "source": [
    "name.endswith(\" \")"
   ]
  },
  {
   "cell_type": "code",
   "execution_count": 61,
   "id": "60457b44-92f6-49a4-81a4-d88dc78bb78e",
   "metadata": {},
   "outputs": [
    {
     "data": {
      "text/plain": [
       "' Rankit '"
      ]
     },
     "execution_count": 61,
     "metadata": {},
     "output_type": "execute_result"
    }
   ],
   "source": [
    "name"
   ]
  },
  {
   "cell_type": "code",
   "execution_count": 63,
   "id": "434f37e4-255a-4d58-be01-88b1c2751978",
   "metadata": {},
   "outputs": [
    {
     "data": {
      "text/plain": [
       "'Rankit '"
      ]
     },
     "execution_count": 63,
     "metadata": {},
     "output_type": "execute_result"
    }
   ],
   "source": [
    "name.lstrip()"
   ]
  },
  {
   "cell_type": "code",
   "execution_count": 67,
   "id": "4fe95573-417e-4a99-8d91-70b7c1827745",
   "metadata": {},
   "outputs": [
    {
     "data": {
      "text/plain": [
       "' Rankit'"
      ]
     },
     "execution_count": 67,
     "metadata": {},
     "output_type": "execute_result"
    }
   ],
   "source": [
    "name.rstrip()"
   ]
  },
  {
   "cell_type": "code",
   "execution_count": 69,
   "id": "e5d00319-08fc-4f3d-9b1f-cd4a02a5d8fa",
   "metadata": {},
   "outputs": [
    {
     "data": {
      "text/plain": [
       "'Rankit'"
      ]
     },
     "execution_count": 69,
     "metadata": {},
     "output_type": "execute_result"
    }
   ],
   "source": [
    "name.strip()"
   ]
  },
  {
   "cell_type": "code",
   "execution_count": 73,
   "id": "aba5e4ac-76b6-47b4-b45c-36bef23df89a",
   "metadata": {},
   "outputs": [],
   "source": [
    "name = \"Raj\""
   ]
  },
  {
   "cell_type": "code",
   "execution_count": 75,
   "id": "5adc1526-0059-4a5b-bec7-aedfbdc1dbd2",
   "metadata": {},
   "outputs": [
    {
     "data": {
      "text/plain": [
       "'raj'"
      ]
     },
     "execution_count": 75,
     "metadata": {},
     "output_type": "execute_result"
    }
   ],
   "source": [
    "name.lower()"
   ]
  },
  {
   "cell_type": "code",
   "execution_count": 77,
   "id": "6d411aa4-92b6-4caa-830c-9fa9d848ebcb",
   "metadata": {},
   "outputs": [
    {
     "data": {
      "text/plain": [
       "False"
      ]
     },
     "execution_count": 77,
     "metadata": {},
     "output_type": "execute_result"
    }
   ],
   "source": [
    "name.islower()"
   ]
  },
  {
   "cell_type": "code",
   "execution_count": 79,
   "id": "8c1f3841-4d69-4b23-a6a3-d7a7a5a10727",
   "metadata": {},
   "outputs": [
    {
     "data": {
      "text/plain": [
       "True"
      ]
     },
     "execution_count": 79,
     "metadata": {},
     "output_type": "execute_result"
    }
   ],
   "source": [
    "name.istitle()"
   ]
  },
  {
   "cell_type": "code",
   "execution_count": 81,
   "id": "c7a2ac9e-68f8-4143-8705-8a23fbe438a2",
   "metadata": {},
   "outputs": [],
   "source": [
    "data1 = \"Nanded\"\n",
    "data2 = \"89\"\n",
    "data3 = \"Nanded89\""
   ]
  },
  {
   "cell_type": "code",
   "execution_count": 83,
   "id": "6cd1c4f9-7f8f-4b64-9a51-1ea5fe745814",
   "metadata": {},
   "outputs": [
    {
     "data": {
      "text/plain": [
       "True"
      ]
     },
     "execution_count": 83,
     "metadata": {},
     "output_type": "execute_result"
    }
   ],
   "source": [
    "data1.isalpha()"
   ]
  },
  {
   "cell_type": "code",
   "execution_count": 85,
   "id": "87b068df-87c8-4974-a0ff-46befc07c893",
   "metadata": {},
   "outputs": [
    {
     "data": {
      "text/plain": [
       "False"
      ]
     },
     "execution_count": 85,
     "metadata": {},
     "output_type": "execute_result"
    }
   ],
   "source": [
    "data2.isalpha()"
   ]
  },
  {
   "cell_type": "code",
   "execution_count": 87,
   "id": "6948bb24-d310-4d98-a381-76e82e62f610",
   "metadata": {},
   "outputs": [
    {
     "data": {
      "text/plain": [
       "False"
      ]
     },
     "execution_count": 87,
     "metadata": {},
     "output_type": "execute_result"
    }
   ],
   "source": [
    "data3.isalpha()"
   ]
  },
  {
   "cell_type": "code",
   "execution_count": 89,
   "id": "7dd696e3-d760-4cb2-8734-a17ad937ffcf",
   "metadata": {},
   "outputs": [
    {
     "data": {
      "text/plain": [
       "False"
      ]
     },
     "execution_count": 89,
     "metadata": {},
     "output_type": "execute_result"
    }
   ],
   "source": [
    "data1.isdigit()"
   ]
  },
  {
   "cell_type": "code",
   "execution_count": 91,
   "id": "19bc3a9b-635f-4519-9742-f1339c4446f8",
   "metadata": {},
   "outputs": [
    {
     "data": {
      "text/plain": [
       "True"
      ]
     },
     "execution_count": 91,
     "metadata": {},
     "output_type": "execute_result"
    }
   ],
   "source": [
    "data2.isdigit()"
   ]
  },
  {
   "cell_type": "code",
   "execution_count": 93,
   "id": "cd4f5920-7f08-4a3e-8684-bf44b0641350",
   "metadata": {},
   "outputs": [
    {
     "data": {
      "text/plain": [
       "True"
      ]
     },
     "execution_count": 93,
     "metadata": {},
     "output_type": "execute_result"
    }
   ],
   "source": [
    "data3.isalnum()"
   ]
  },
  {
   "cell_type": "code",
   "execution_count": 95,
   "id": "f57b2ed7-caa5-44ba-a666-14737df61ac2",
   "metadata": {},
   "outputs": [],
   "source": [
    "# operators"
   ]
  },
  {
   "cell_type": "code",
   "execution_count": 97,
   "id": "a25fcfae-f18d-4d59-9b60-5dc23dc9c57e",
   "metadata": {},
   "outputs": [],
   "source": [
    "num1 = 20\n",
    "num2 = 6"
   ]
  },
  {
   "cell_type": "code",
   "execution_count": 101,
   "id": "66255207-b3b4-4efb-8373-830b4f003784",
   "metadata": {},
   "outputs": [
    {
     "data": {
      "text/plain": [
       "26"
      ]
     },
     "execution_count": 101,
     "metadata": {},
     "output_type": "execute_result"
    }
   ],
   "source": [
    "num1 + num2"
   ]
  },
  {
   "cell_type": "code",
   "execution_count": 107,
   "id": "fd6be585-c057-407f-98ca-f664d0f7b974",
   "metadata": {},
   "outputs": [
    {
     "data": {
      "text/plain": [
       "3"
      ]
     },
     "execution_count": 107,
     "metadata": {},
     "output_type": "execute_result"
    }
   ],
   "source": [
    "num1 // num2  # floor division"
   ]
  },
  {
   "cell_type": "code",
   "execution_count": 109,
   "id": "aa82e859-c7fe-4863-a08b-85f95251a587",
   "metadata": {},
   "outputs": [
    {
     "data": {
      "text/plain": [
       "2"
      ]
     },
     "execution_count": 109,
     "metadata": {},
     "output_type": "execute_result"
    }
   ],
   "source": [
    "num1 % num2  # modulus or remainder"
   ]
  },
  {
   "cell_type": "code",
   "execution_count": 117,
   "id": "cfbe3a4b-bfb2-4740-ba0a-c85513c15b8b",
   "metadata": {},
   "outputs": [
    {
     "data": {
      "text/plain": [
       "64000000"
      ]
     },
     "execution_count": 117,
     "metadata": {},
     "output_type": "execute_result"
    }
   ],
   "source": [
    "num1 ** num2"
   ]
  },
  {
   "cell_type": "code",
   "execution_count": 119,
   "id": "4098ad70-c36e-4f59-a001-c70cc2559f9e",
   "metadata": {},
   "outputs": [
    {
     "data": {
      "text/plain": [
       "True"
      ]
     },
     "execution_count": 119,
     "metadata": {},
     "output_type": "execute_result"
    }
   ],
   "source": [
    "num1 > num2"
   ]
  },
  {
   "cell_type": "code",
   "execution_count": 121,
   "id": "38bbb70c-c52c-48ed-97aa-9810b379ea56",
   "metadata": {},
   "outputs": [
    {
     "data": {
      "text/plain": [
       "True"
      ]
     },
     "execution_count": 121,
     "metadata": {},
     "output_type": "execute_result"
    }
   ],
   "source": [
    "num2 <= num2"
   ]
  },
  {
   "cell_type": "code",
   "execution_count": 123,
   "id": "344bbc9b-dab2-4c70-9571-6d814e12cdaf",
   "metadata": {},
   "outputs": [
    {
     "data": {
      "text/plain": [
       "False"
      ]
     },
     "execution_count": 123,
     "metadata": {},
     "output_type": "execute_result"
    }
   ],
   "source": [
    "num1 == num2"
   ]
  },
  {
   "cell_type": "code",
   "execution_count": 125,
   "id": "b80f2ed8-a7d2-4d01-b9f3-0d827a7a00dc",
   "metadata": {},
   "outputs": [
    {
     "data": {
      "text/plain": [
       "True"
      ]
     },
     "execution_count": 125,
     "metadata": {},
     "output_type": "execute_result"
    }
   ],
   "source": [
    "num1 != num2"
   ]
  },
  {
   "cell_type": "code",
   "execution_count": 127,
   "id": "bf6b049b-ef01-4277-a37b-a3c49b566163",
   "metadata": {},
   "outputs": [
    {
     "data": {
      "text/plain": [
       "True"
      ]
     },
     "execution_count": 127,
     "metadata": {},
     "output_type": "execute_result"
    }
   ],
   "source": [
    "num1 > num2 and num1 > 0"
   ]
  },
  {
   "cell_type": "code",
   "execution_count": 129,
   "id": "a5420c28-4afe-42af-8723-4264f657d4f4",
   "metadata": {},
   "outputs": [
    {
     "data": {
      "text/plain": [
       "True"
      ]
     },
     "execution_count": 129,
     "metadata": {},
     "output_type": "execute_result"
    }
   ],
   "source": [
    "num1 > num2 or num1 > 100"
   ]
  },
  {
   "cell_type": "code",
   "execution_count": 131,
   "id": "7d888956-b32e-4a9c-80fe-3ff054f723e8",
   "metadata": {},
   "outputs": [
    {
     "data": {
      "text/plain": [
       "('Nanded', '89', 'Nanded89')"
      ]
     },
     "execution_count": 131,
     "metadata": {},
     "output_type": "execute_result"
    }
   ],
   "source": [
    "data1, data2, data3"
   ]
  },
  {
   "cell_type": "code",
   "execution_count": 133,
   "id": "017dd247-141a-451f-889b-7bbf16335d92",
   "metadata": {},
   "outputs": [],
   "source": [
    "# type casting"
   ]
  },
  {
   "cell_type": "code",
   "execution_count": 135,
   "id": "8ecc555e-e6c6-4a52-a3d0-77d1f30929b5",
   "metadata": {},
   "outputs": [
    {
     "data": {
      "text/plain": [
       "89"
      ]
     },
     "execution_count": 135,
     "metadata": {},
     "output_type": "execute_result"
    }
   ],
   "source": [
    "int(data2)"
   ]
  },
  {
   "cell_type": "code",
   "execution_count": 137,
   "id": "ebe6268c-5d5e-449a-a31a-acfede41649f",
   "metadata": {},
   "outputs": [
    {
     "data": {
      "text/plain": [
       "12"
      ]
     },
     "execution_count": 137,
     "metadata": {},
     "output_type": "execute_result"
    }
   ],
   "source": [
    "num"
   ]
  },
  {
   "cell_type": "code",
   "execution_count": 139,
   "id": "919d9a9c-655c-4f39-96b2-76db38263f58",
   "metadata": {},
   "outputs": [
    {
     "data": {
      "text/plain": [
       "'12'"
      ]
     },
     "execution_count": 139,
     "metadata": {},
     "output_type": "execute_result"
    }
   ],
   "source": [
    "str(num)"
   ]
  },
  {
   "cell_type": "code",
   "execution_count": 143,
   "id": "de4dfba7-2f8b-4210-84ac-0c1491e718f3",
   "metadata": {},
   "outputs": [
    {
     "name": "stdin",
     "output_type": "stream",
     "text": [
      "Enter the first number  10\n",
      "Enter the 2nd number 31\n"
     ]
    },
    {
     "name": "stdout",
     "output_type": "stream",
     "text": [
      "41\n"
     ]
    }
   ],
   "source": [
    "num1 = int(input(\"Enter the first number \"))\n",
    "num2 = int(input(\"Enter the 2nd number\"))\n",
    "\n",
    "res = num1 + num2\n",
    "print(res)"
   ]
  },
  {
   "cell_type": "code",
   "execution_count": null,
   "id": "807265cb-7545-4d96-bf7c-1d60a8a7d2af",
   "metadata": {},
   "outputs": [],
   "source": [
    "print(\"ok\")"
   ]
  },
  {
   "cell_type": "code",
   "execution_count": null,
   "id": "4189ff2a-b904-4af2-8467-60ddb452233b",
   "metadata": {},
   "outputs": [],
   "source": []
  }
 ],
 "metadata": {
  "kernelspec": {
   "display_name": "Python 3 (ipykernel)",
   "language": "python",
   "name": "python3"
  },
  "language_info": {
   "codemirror_mode": {
    "name": "ipython",
    "version": 3
   },
   "file_extension": ".py",
   "mimetype": "text/x-python",
   "name": "python",
   "nbconvert_exporter": "python",
   "pygments_lexer": "ipython3",
   "version": "3.12.4"
  }
 },
 "nbformat": 4,
 "nbformat_minor": 5
}
