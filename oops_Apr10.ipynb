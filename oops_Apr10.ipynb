{
 "cells": [
  {
   "cell_type": "code",
   "execution_count": 1,
   "id": "b6a62ec8-b25a-4a6a-a122-68ecd39a17bc",
   "metadata": {},
   "outputs": [],
   "source": [
    "class Employee:\n",
    "    pass"
   ]
  },
  {
   "cell_type": "code",
   "execution_count": 3,
   "id": "ccb142fa-fdcc-4979-9393-fcf78556fab1",
   "metadata": {},
   "outputs": [],
   "source": [
    "emp1 = Employee()"
   ]
  },
  {
   "cell_type": "code",
   "execution_count": 5,
   "id": "33e1830c-4d35-4906-be7b-20527be923c1",
   "metadata": {},
   "outputs": [],
   "source": [
    "emp2 = Employee()"
   ]
  },
  {
   "cell_type": "code",
   "execution_count": 7,
   "id": "ce3e89b6-b9f2-456e-ac7b-3a22be1ed2d6",
   "metadata": {},
   "outputs": [
    {
     "name": "stdout",
     "output_type": "stream",
     "text": [
      "<__main__.Employee object at 0x7bc283fbce30>\n"
     ]
    }
   ],
   "source": [
    "print(emp1)"
   ]
  },
  {
   "cell_type": "code",
   "execution_count": 9,
   "id": "ec384b3d-3d1f-4133-a40c-d35569dfe372",
   "metadata": {},
   "outputs": [
    {
     "name": "stdout",
     "output_type": "stream",
     "text": [
      "<__main__.Employee object at 0x7bc2835a3f80>\n"
     ]
    }
   ],
   "source": [
    "print(emp2)"
   ]
  },
  {
   "cell_type": "code",
   "execution_count": 11,
   "id": "44d8f37a-cff2-4163-9e62-29a03eb03c70",
   "metadata": {},
   "outputs": [],
   "source": [
    "emp1.first = \"Riya\"   # instance variables\n",
    "emp1.last = \"Patel\"\n",
    "emp1.salary = 53000"
   ]
  },
  {
   "cell_type": "code",
   "execution_count": 13,
   "id": "728a94d8-9d48-4c82-88f1-eddd021d20e9",
   "metadata": {},
   "outputs": [],
   "source": [
    "emp2.first = \"Rohit\"\n",
    "emp2.last = \"Patil\"\n",
    "emp2.salary = 54000"
   ]
  },
  {
   "cell_type": "code",
   "execution_count": 15,
   "id": "eddd1bbf-9724-48ab-b518-b2a3ca340f6a",
   "metadata": {},
   "outputs": [
    {
     "name": "stdout",
     "output_type": "stream",
     "text": [
      "Patil\n"
     ]
    }
   ],
   "source": [
    "print(emp2.last)"
   ]
  },
  {
   "cell_type": "code",
   "execution_count": 35,
   "id": "5f36d586-5372-4a79-b4e3-e88aeefef3f9",
   "metadata": {},
   "outputs": [],
   "source": [
    "class Employee:\n",
    "\n",
    "    def __init__(self, first, last, salary):\n",
    "        self.first = first\n",
    "        self.last = last\n",
    "        self.salary = salary\n",
    "\n",
    "    def yrsal(self):\n",
    "        print(f\"yearly sal is -> {self.salary * 12}\")`"
   ]
  },
  {
   "cell_type": "code",
   "execution_count": 37,
   "id": "dccb8746-6f48-483c-b980-6d81c5fd7d17",
   "metadata": {},
   "outputs": [],
   "source": [
    "emp1 = Employee(\"Riya\", \"Patel\", 53000)"
   ]
  },
  {
   "cell_type": "code",
   "execution_count": 39,
   "id": "b7750126-dfd6-41a7-aa84-c41aedb28461",
   "metadata": {},
   "outputs": [
    {
     "data": {
      "text/plain": [
       "53000"
      ]
     },
     "execution_count": 39,
     "metadata": {},
     "output_type": "execute_result"
    }
   ],
   "source": [
    "emp1.salary"
   ]
  },
  {
   "cell_type": "code",
   "execution_count": 33,
   "id": "bc3742a8-df83-4a10-993a-c1b33a4ad0b1",
   "metadata": {},
   "outputs": [],
   "source": [
    "dir(emp1);"
   ]
  },
  {
   "cell_type": "code",
   "execution_count": 41,
   "id": "3b39320e-934f-4948-9cad-da5991ea6c16",
   "metadata": {},
   "outputs": [
    {
     "name": "stdout",
     "output_type": "stream",
     "text": [
      "yearly sal is -> 636000\n"
     ]
    }
   ],
   "source": [
    "emp1.yrsal()"
   ]
  },
  {
   "cell_type": "code",
   "execution_count": null,
   "id": "dd8cc5fe-8908-4ece-a87a-9f5fa1c913fa",
   "metadata": {},
   "outputs": [],
   "source": []
  }
 ],
 "metadata": {
  "kernelspec": {
   "display_name": "Python 3 (ipykernel)",
   "language": "python",
   "name": "python3"
  },
  "language_info": {
   "codemirror_mode": {
    "name": "ipython",
    "version": 3
   },
   "file_extension": ".py",
   "mimetype": "text/x-python",
   "name": "python",
   "nbconvert_exporter": "python",
   "pygments_lexer": "ipython3",
   "version": "3.12.4"
  }
 },
 "nbformat": 4,
 "nbformat_minor": 5
}
