{
 "cells": [
  {
   "cell_type": "markdown",
   "id": "5f6c7d79-9120-405d-b25d-20fc3a9be6d3",
   "metadata": {},
   "source": [
    "## List"
   ]
  },
  {
   "cell_type": "code",
   "execution_count": 3,
   "id": "a8c33ce3-468b-4168-9f83-9bea9c8858bf",
   "metadata": {},
   "outputs": [],
   "source": [
    "l = [34, 67, 89, 23, 23, 84]"
   ]
  },
  {
   "cell_type": "code",
   "execution_count": 5,
   "id": "9cda05d7-9354-4929-8de1-033ef039c7f7",
   "metadata": {},
   "outputs": [
    {
     "data": {
      "text/plain": [
       "[34, 67, 89, 23, 23, 84]"
      ]
     },
     "execution_count": 5,
     "metadata": {},
     "output_type": "execute_result"
    }
   ],
   "source": [
    "l"
   ]
  },
  {
   "cell_type": "code",
   "execution_count": 7,
   "id": "de18a3eb-dbae-4ae3-83b6-f78180188de7",
   "metadata": {},
   "outputs": [
    {
     "data": {
      "text/plain": [
       "list"
      ]
     },
     "execution_count": 7,
     "metadata": {},
     "output_type": "execute_result"
    }
   ],
   "source": [
    "type(l)"
   ]
  },
  {
   "cell_type": "code",
   "execution_count": 9,
   "id": "feb49367-b609-4a29-a0c7-9372ed4422a6",
   "metadata": {},
   "outputs": [],
   "source": [
    "# duplicates r allowed"
   ]
  },
  {
   "cell_type": "code",
   "execution_count": 11,
   "id": "89abb078-45c4-4818-b25c-2760092fd700",
   "metadata": {},
   "outputs": [
    {
     "data": {
      "text/plain": [
       "[34, 67, 89, 23, 23, 84]"
      ]
     },
     "execution_count": 11,
     "metadata": {},
     "output_type": "execute_result"
    }
   ],
   "source": [
    "l"
   ]
  },
  {
   "cell_type": "code",
   "execution_count": 13,
   "id": "cef820f9-59a5-42ba-8529-750902682c8a",
   "metadata": {},
   "outputs": [
    {
     "data": {
      "text/plain": [
       "89"
      ]
     },
     "execution_count": 13,
     "metadata": {},
     "output_type": "execute_result"
    }
   ],
   "source": [
    "# ordered\n",
    "\n",
    "l[2]"
   ]
  },
  {
   "cell_type": "code",
   "execution_count": 19,
   "id": "30b3ac51-aa10-4589-b4fc-c2be055d260c",
   "metadata": {},
   "outputs": [],
   "source": [
    "l[2] = 190\n",
    "# mutable"
   ]
  },
  {
   "cell_type": "code",
   "execution_count": 17,
   "id": "4ad6932a-11e0-4666-829d-2a0241176c4d",
   "metadata": {},
   "outputs": [
    {
     "data": {
      "text/plain": [
       "[34, 67, 190, 23, 23, 84]"
      ]
     },
     "execution_count": 17,
     "metadata": {},
     "output_type": "execute_result"
    }
   ],
   "source": [
    "l"
   ]
  },
  {
   "cell_type": "code",
   "execution_count": 21,
   "id": "e8c1d94e-9eaf-4fa9-b2ea-5151ae1a4625",
   "metadata": {},
   "outputs": [],
   "source": [
    "l1 = [67, 88.9, True, \"Ajinkya\"]"
   ]
  },
  {
   "cell_type": "code",
   "execution_count": 25,
   "id": "ac0639ae-18b1-4f56-88df-4abec345468b",
   "metadata": {},
   "outputs": [
    {
     "data": {
      "text/plain": [
       "[67, 88.9, True, 'Ajinkya']"
      ]
     },
     "execution_count": 25,
     "metadata": {},
     "output_type": "execute_result"
    }
   ],
   "source": [
    "l1 # hetero"
   ]
  },
  {
   "cell_type": "code",
   "execution_count": 27,
   "id": "15064f54-9289-46cc-b096-b67f2d881951",
   "metadata": {},
   "outputs": [],
   "source": [
    "del l1[2]"
   ]
  },
  {
   "cell_type": "code",
   "execution_count": 29,
   "id": "bc07a334-a16b-4c42-ab0b-c6c6fc7be540",
   "metadata": {},
   "outputs": [
    {
     "data": {
      "text/plain": [
       "[67, 88.9, 'Ajinkya']"
      ]
     },
     "execution_count": 29,
     "metadata": {},
     "output_type": "execute_result"
    }
   ],
   "source": [
    "l1"
   ]
  },
  {
   "cell_type": "code",
   "execution_count": 31,
   "id": "a0908b45-eadf-462e-9007-781419f0b3bf",
   "metadata": {},
   "outputs": [],
   "source": [
    "del l1"
   ]
  },
  {
   "cell_type": "code",
   "execution_count": 33,
   "id": "f33d44a9-69e6-4ec0-aeef-4fcfd216e1f9",
   "metadata": {},
   "outputs": [
    {
     "ename": "NameError",
     "evalue": "name 'l1' is not defined",
     "output_type": "error",
     "traceback": [
      "\u001b[0;31m---------------------------------------------------------------------------\u001b[0m",
      "\u001b[0;31mNameError\u001b[0m                                 Traceback (most recent call last)",
      "Cell \u001b[0;32mIn[33], line 1\u001b[0m\n\u001b[0;32m----> 1\u001b[0m l1\n",
      "\u001b[0;31mNameError\u001b[0m: name 'l1' is not defined"
     ]
    }
   ],
   "source": [
    "l1"
   ]
  },
  {
   "cell_type": "code",
   "execution_count": 35,
   "id": "fbea9190-4533-4217-a236-d18ded2aa27f",
   "metadata": {},
   "outputs": [
    {
     "data": {
      "text/plain": [
       "[34, 67, 190, 23, 23, 84]"
      ]
     },
     "execution_count": 35,
     "metadata": {},
     "output_type": "execute_result"
    }
   ],
   "source": [
    "l"
   ]
  },
  {
   "cell_type": "code",
   "execution_count": 37,
   "id": "d90af73e-41e0-42ee-8f01-a13492d9af2a",
   "metadata": {},
   "outputs": [
    {
     "data": {
      "text/plain": [
       "[67, 190, 23]"
      ]
     },
     "execution_count": 37,
     "metadata": {},
     "output_type": "execute_result"
    }
   ],
   "source": [
    "l[1:4]"
   ]
  },
  {
   "cell_type": "code",
   "execution_count": 41,
   "id": "107a3aca-4f7e-4381-85c1-2547f07e326f",
   "metadata": {},
   "outputs": [
    {
     "data": {
      "text/plain": [
       "[34, 67, 190]"
      ]
     },
     "execution_count": 41,
     "metadata": {},
     "output_type": "execute_result"
    }
   ],
   "source": [
    "l[:3]"
   ]
  },
  {
   "cell_type": "code",
   "execution_count": 43,
   "id": "1a9cc3b1-127e-4b87-815a-fbfc09f2e487",
   "metadata": {},
   "outputs": [
    {
     "data": {
      "text/plain": [
       "[190, 23, 23, 84]"
      ]
     },
     "execution_count": 43,
     "metadata": {},
     "output_type": "execute_result"
    }
   ],
   "source": [
    "l[2:]"
   ]
  },
  {
   "cell_type": "code",
   "execution_count": 45,
   "id": "086c9f5e-6865-4158-b850-bfefa4c25686",
   "metadata": {},
   "outputs": [
    {
     "data": {
      "text/plain": [
       "[34, 67, 190, 23, 23, 84]"
      ]
     },
     "execution_count": 45,
     "metadata": {},
     "output_type": "execute_result"
    }
   ],
   "source": [
    "l"
   ]
  },
  {
   "cell_type": "code",
   "execution_count": 47,
   "id": "cc13b6aa-4f08-4a76-985c-8a885a5944c4",
   "metadata": {},
   "outputs": [
    {
     "data": {
      "text/plain": [
       "[67, 23, 84]"
      ]
     },
     "execution_count": 47,
     "metadata": {},
     "output_type": "execute_result"
    }
   ],
   "source": [
    "l[1::2]"
   ]
  },
  {
   "cell_type": "code",
   "execution_count": 49,
   "id": "8e4e07c8-520a-479b-9438-17e9ae0815a1",
   "metadata": {},
   "outputs": [
    {
     "data": {
      "text/plain": [
       "[84, 23, 23, 190, 67, 34]"
      ]
     },
     "execution_count": 49,
     "metadata": {},
     "output_type": "execute_result"
    }
   ],
   "source": [
    "l[::-1]"
   ]
  },
  {
   "cell_type": "code",
   "execution_count": 53,
   "id": "c8516fc6-41f6-4d8d-aceb-dfd1c4575644",
   "metadata": {},
   "outputs": [],
   "source": [
    "l[1:4] = [100, 200, 300]"
   ]
  },
  {
   "cell_type": "code",
   "execution_count": 55,
   "id": "7bcb2b9a-4843-47f1-8dd2-5285b001bfd6",
   "metadata": {},
   "outputs": [
    {
     "data": {
      "text/plain": [
       "[34, 100, 200, 300, 23, 84]"
      ]
     },
     "execution_count": 55,
     "metadata": {},
     "output_type": "execute_result"
    }
   ],
   "source": [
    "l"
   ]
  },
  {
   "cell_type": "code",
   "execution_count": 57,
   "id": "527a9dfd-f9fd-47f5-8e85-af4d98d252e5",
   "metadata": {},
   "outputs": [
    {
     "data": {
      "text/plain": [
       "True"
      ]
     },
     "execution_count": 57,
     "metadata": {},
     "output_type": "execute_result"
    }
   ],
   "source": [
    "23 in l"
   ]
  },
  {
   "cell_type": "code",
   "execution_count": 59,
   "id": "8870d7fb-312e-4bf6-8aba-017305513f2e",
   "metadata": {},
   "outputs": [],
   "source": [
    "# list decomposition"
   ]
  },
  {
   "cell_type": "code",
   "execution_count": 61,
   "id": "4704c1c5-22f1-4b70-9e3e-734354529cd3",
   "metadata": {},
   "outputs": [],
   "source": [
    "l2 = [23, 56, 89]"
   ]
  },
  {
   "cell_type": "code",
   "execution_count": 63,
   "id": "13980fe9-6ac5-4627-94fe-c55076892485",
   "metadata": {},
   "outputs": [],
   "source": [
    "x, y, z = l2"
   ]
  },
  {
   "cell_type": "code",
   "execution_count": 67,
   "id": "ca904a8d-b130-4636-a003-84089835b8e6",
   "metadata": {},
   "outputs": [
    {
     "data": {
      "text/plain": [
       "(23, 56, 89)"
      ]
     },
     "execution_count": 67,
     "metadata": {},
     "output_type": "execute_result"
    }
   ],
   "source": [
    "x, y, z"
   ]
  },
  {
   "cell_type": "code",
   "execution_count": 69,
   "id": "ee572c0e-3937-4a7d-b877-b6489f29c203",
   "metadata": {},
   "outputs": [],
   "source": [
    "e = []"
   ]
  },
  {
   "cell_type": "code",
   "execution_count": 71,
   "id": "c7010402-9810-4931-83d0-cb204393f3e1",
   "metadata": {},
   "outputs": [
    {
     "data": {
      "text/plain": [
       "[]"
      ]
     },
     "execution_count": 71,
     "metadata": {},
     "output_type": "execute_result"
    }
   ],
   "source": [
    "e"
   ]
  },
  {
   "cell_type": "code",
   "execution_count": 73,
   "id": "c32444e5-8d2e-4eb8-99f9-36709ddb25fb",
   "metadata": {},
   "outputs": [
    {
     "ename": "IndexError",
     "evalue": "list index out of range",
     "output_type": "error",
     "traceback": [
      "\u001b[0;31m---------------------------------------------------------------------------\u001b[0m",
      "\u001b[0;31mIndexError\u001b[0m                                Traceback (most recent call last)",
      "Cell \u001b[0;32mIn[73], line 1\u001b[0m\n\u001b[0;32m----> 1\u001b[0m e[\u001b[38;5;241m0\u001b[39m]\n",
      "\u001b[0;31mIndexError\u001b[0m: list index out of range"
     ]
    }
   ],
   "source": [
    "e[0]"
   ]
  },
  {
   "cell_type": "code",
   "execution_count": 75,
   "id": "cca765dd-c982-4b45-b712-70b91ca320f3",
   "metadata": {},
   "outputs": [],
   "source": [
    "#functions"
   ]
  },
  {
   "cell_type": "code",
   "execution_count": 77,
   "id": "117fc9d9-e794-4ce3-b152-05613d23f0a1",
   "metadata": {},
   "outputs": [
    {
     "data": {
      "text/plain": [
       "[34, 100, 200, 300, 23, 84]"
      ]
     },
     "execution_count": 77,
     "metadata": {},
     "output_type": "execute_result"
    }
   ],
   "source": [
    "l"
   ]
  },
  {
   "cell_type": "code",
   "execution_count": 79,
   "id": "673e0278-cd19-4fbd-b192-8041250e589c",
   "metadata": {},
   "outputs": [
    {
     "data": {
      "text/plain": [
       "300"
      ]
     },
     "execution_count": 79,
     "metadata": {},
     "output_type": "execute_result"
    }
   ],
   "source": [
    "max(l)"
   ]
  },
  {
   "cell_type": "code",
   "execution_count": 81,
   "id": "520015ef-743a-472a-9a89-2fa64d4f1aca",
   "metadata": {},
   "outputs": [
    {
     "data": {
      "text/plain": [
       "[23, 34, 84, 100, 200, 300]"
      ]
     },
     "execution_count": 81,
     "metadata": {},
     "output_type": "execute_result"
    }
   ],
   "source": [
    "sorted(l)"
   ]
  },
  {
   "cell_type": "code",
   "execution_count": 83,
   "id": "0276ebd9-5228-437f-8813-fd2449ba9e24",
   "metadata": {},
   "outputs": [
    {
     "data": {
      "text/plain": [
       "[300, 200, 100, 84, 34, 23]"
      ]
     },
     "execution_count": 83,
     "metadata": {},
     "output_type": "execute_result"
    }
   ],
   "source": [
    "sorted(l, reverse= True)"
   ]
  },
  {
   "cell_type": "code",
   "execution_count": 85,
   "id": "1e7c0190-96ad-4925-833a-6e274e4f991f",
   "metadata": {},
   "outputs": [],
   "source": [
    "# methods"
   ]
  },
  {
   "cell_type": "code",
   "execution_count": 87,
   "id": "3c1c90c1-b42e-4062-9afc-19a28bc4803c",
   "metadata": {},
   "outputs": [
    {
     "data": {
      "text/plain": [
       "[34, 100, 200, 300, 23, 84]"
      ]
     },
     "execution_count": 87,
     "metadata": {},
     "output_type": "execute_result"
    }
   ],
   "source": [
    "l"
   ]
  },
  {
   "cell_type": "code",
   "execution_count": 89,
   "id": "7f6fd25d-fe15-4350-baec-426c6edd3458",
   "metadata": {},
   "outputs": [],
   "source": [
    "l.append(1000)"
   ]
  },
  {
   "cell_type": "code",
   "execution_count": 91,
   "id": "d29aceb8-5a48-4ab9-9bed-87bfe20d169f",
   "metadata": {},
   "outputs": [
    {
     "data": {
      "text/plain": [
       "[34, 100, 200, 300, 23, 84, 1000]"
      ]
     },
     "execution_count": 91,
     "metadata": {},
     "output_type": "execute_result"
    }
   ],
   "source": [
    "l"
   ]
  },
  {
   "cell_type": "code",
   "execution_count": 93,
   "id": "ba5ad060-a8b7-4ba7-a62d-18af7eb3547a",
   "metadata": {},
   "outputs": [],
   "source": [
    "# append and extend\n",
    "\n",
    "l1 = [1, 2, 3]\n",
    "l2 = [1, 2, 3]"
   ]
  },
  {
   "cell_type": "code",
   "execution_count": 95,
   "id": "fb518b5e-920a-4031-905b-77b4432a7e6e",
   "metadata": {},
   "outputs": [],
   "source": [
    "l1.append([50, 51])\n",
    "l2.extend([50, 51])"
   ]
  },
  {
   "cell_type": "code",
   "execution_count": 97,
   "id": "19d84819-4f63-4eb3-901a-21bc70c9d339",
   "metadata": {},
   "outputs": [
    {
     "data": {
      "text/plain": [
       "[1, 2, 3, [50, 51]]"
      ]
     },
     "execution_count": 97,
     "metadata": {},
     "output_type": "execute_result"
    }
   ],
   "source": [
    "l1"
   ]
  },
  {
   "cell_type": "code",
   "execution_count": 99,
   "id": "2e2e6c52-a2ca-4432-aace-beb5f499623c",
   "metadata": {},
   "outputs": [
    {
     "data": {
      "text/plain": [
       "[1, 2, 3, 50, 51]"
      ]
     },
     "execution_count": 99,
     "metadata": {},
     "output_type": "execute_result"
    }
   ],
   "source": [
    "l2"
   ]
  },
  {
   "cell_type": "code",
   "execution_count": 103,
   "id": "d5a05466-d972-4e61-bcb4-396bcf25736b",
   "metadata": {},
   "outputs": [
    {
     "data": {
      "text/plain": [
       "50"
      ]
     },
     "execution_count": 103,
     "metadata": {},
     "output_type": "execute_result"
    }
   ],
   "source": [
    "l1[3][0]"
   ]
  },
  {
   "cell_type": "code",
   "execution_count": 105,
   "id": "45541c1a-bf60-4040-b23f-9745b10915fd",
   "metadata": {},
   "outputs": [
    {
     "data": {
      "text/plain": [
       "[34, 100, 200, 300, 23, 84, 1000]"
      ]
     },
     "execution_count": 105,
     "metadata": {},
     "output_type": "execute_result"
    }
   ],
   "source": [
    "l"
   ]
  },
  {
   "cell_type": "code",
   "execution_count": 107,
   "id": "6ab4ba2e-d97a-4015-922f-2cebb95e85d3",
   "metadata": {},
   "outputs": [
    {
     "data": {
      "text/plain": [
       "1000"
      ]
     },
     "execution_count": 107,
     "metadata": {},
     "output_type": "execute_result"
    }
   ],
   "source": [
    "l.pop()"
   ]
  },
  {
   "cell_type": "code",
   "execution_count": 109,
   "id": "6d6b0dc0-6199-4b8d-9fb0-3c4de12e63cd",
   "metadata": {},
   "outputs": [
    {
     "data": {
      "text/plain": [
       "[34, 100, 200, 300, 23, 84]"
      ]
     },
     "execution_count": 109,
     "metadata": {},
     "output_type": "execute_result"
    }
   ],
   "source": [
    "l"
   ]
  },
  {
   "cell_type": "code",
   "execution_count": 111,
   "id": "c13c4b8c-bd74-406d-8a8b-a9240a700667",
   "metadata": {},
   "outputs": [],
   "source": [
    "l.insert(1, 505)"
   ]
  },
  {
   "cell_type": "code",
   "execution_count": 113,
   "id": "bcaff91f-aa6c-43ab-9dca-9f4f5b525c0f",
   "metadata": {},
   "outputs": [
    {
     "data": {
      "text/plain": [
       "[34, 505, 100, 200, 300, 23, 84]"
      ]
     },
     "execution_count": 113,
     "metadata": {},
     "output_type": "execute_result"
    }
   ],
   "source": [
    "l"
   ]
  },
  {
   "cell_type": "code",
   "execution_count": 115,
   "id": "e73df9f4-5858-4fb2-99b4-dbca4ddf4bca",
   "metadata": {},
   "outputs": [
    {
     "data": {
      "text/plain": [
       "1"
      ]
     },
     "execution_count": 115,
     "metadata": {},
     "output_type": "execute_result"
    }
   ],
   "source": [
    "l.index(505)"
   ]
  },
  {
   "cell_type": "code",
   "execution_count": 117,
   "id": "232a713a-70b4-4cdd-b42c-2dd0f1dc8347",
   "metadata": {},
   "outputs": [],
   "source": [
    "l = [12, 14, 56, 75, 12, 54, 100]"
   ]
  },
  {
   "cell_type": "code",
   "execution_count": 119,
   "id": "b52d2ea9-f379-4c91-9a2e-680b596207f9",
   "metadata": {},
   "outputs": [
    {
     "name": "stdout",
     "output_type": "stream",
     "text": [
      "0 -> 12\n",
      "1 -> 14\n",
      "2 -> 56\n",
      "3 -> 75\n",
      "0 -> 12\n",
      "5 -> 54\n",
      "6 -> 100\n"
     ]
    }
   ],
   "source": [
    "for i in l:\n",
    "    print(f\"{l.index(i)} -> {i}\")"
   ]
  },
  {
   "cell_type": "code",
   "execution_count": 121,
   "id": "74beec39-874a-46d5-96b4-38f424a02571",
   "metadata": {},
   "outputs": [
    {
     "data": {
      "text/plain": [
       "[(0, 12), (1, 14), (2, 56), (3, 75), (4, 12), (5, 54), (6, 100)]"
      ]
     },
     "execution_count": 121,
     "metadata": {},
     "output_type": "execute_result"
    }
   ],
   "source": [
    "list(enumerate(l))"
   ]
  },
  {
   "cell_type": "code",
   "execution_count": 123,
   "id": "4fc38ae3-52a8-447e-8828-1fb6c9a133a3",
   "metadata": {},
   "outputs": [
    {
     "name": "stdout",
     "output_type": "stream",
     "text": [
      "0 -> 12\n",
      "1 -> 14\n",
      "2 -> 56\n",
      "3 -> 75\n",
      "4 -> 12\n",
      "5 -> 54\n",
      "6 -> 100\n"
     ]
    }
   ],
   "source": [
    "for ind, val in enumerate(l):\n",
    "    print(f\"{ind} -> {val}\")"
   ]
  },
  {
   "cell_type": "code",
   "execution_count": 125,
   "id": "b45c731d-d0de-43b5-98ca-3ee101132822",
   "metadata": {},
   "outputs": [
    {
     "data": {
      "text/plain": [
       "[12, 14, 56, 75, 12, 54, 100]"
      ]
     },
     "execution_count": 125,
     "metadata": {},
     "output_type": "execute_result"
    }
   ],
   "source": [
    "l"
   ]
  },
  {
   "cell_type": "code",
   "execution_count": 127,
   "id": "ea3d03c8-ed76-47af-8fd0-06b71b432b9b",
   "metadata": {},
   "outputs": [],
   "source": [
    "o = l"
   ]
  },
  {
   "cell_type": "code",
   "execution_count": 129,
   "id": "6ab834ac-7f3b-4c4f-8656-067a133cf6c3",
   "metadata": {},
   "outputs": [
    {
     "data": {
      "text/plain": [
       "[12, 14, 56, 75, 12, 54, 100]"
      ]
     },
     "execution_count": 129,
     "metadata": {},
     "output_type": "execute_result"
    }
   ],
   "source": [
    "o"
   ]
  },
  {
   "cell_type": "code",
   "execution_count": 131,
   "id": "02443a98-392a-45cc-8636-a4b7ffc8826d",
   "metadata": {},
   "outputs": [
    {
     "data": {
      "text/plain": [
       "135563449245248"
      ]
     },
     "execution_count": 131,
     "metadata": {},
     "output_type": "execute_result"
    }
   ],
   "source": [
    "id(l)"
   ]
  },
  {
   "cell_type": "code",
   "execution_count": 133,
   "id": "252377f2-ee8e-4728-8e4f-d90a809f264d",
   "metadata": {},
   "outputs": [
    {
     "data": {
      "text/plain": [
       "135563449245248"
      ]
     },
     "execution_count": 133,
     "metadata": {},
     "output_type": "execute_result"
    }
   ],
   "source": [
    "id(o)"
   ]
  },
  {
   "cell_type": "code",
   "execution_count": 135,
   "id": "2cdfe7f5-ae16-4de1-bf28-525a9008c7d9",
   "metadata": {},
   "outputs": [],
   "source": [
    "l[0] = 700"
   ]
  },
  {
   "cell_type": "code",
   "execution_count": 137,
   "id": "d3d6bfaf-0b69-478a-bc2a-2c3bb4c73ae5",
   "metadata": {},
   "outputs": [
    {
     "data": {
      "text/plain": [
       "[700, 14, 56, 75, 12, 54, 100]"
      ]
     },
     "execution_count": 137,
     "metadata": {},
     "output_type": "execute_result"
    }
   ],
   "source": [
    "l"
   ]
  },
  {
   "cell_type": "code",
   "execution_count": 139,
   "id": "627a88c1-b522-47c7-81b3-634e5496a168",
   "metadata": {},
   "outputs": [
    {
     "data": {
      "text/plain": [
       "[700, 14, 56, 75, 12, 54, 100]"
      ]
     },
     "execution_count": 139,
     "metadata": {},
     "output_type": "execute_result"
    }
   ],
   "source": [
    "o"
   ]
  },
  {
   "cell_type": "code",
   "execution_count": 141,
   "id": "64109a83-8603-454e-97fe-349d6b5cfcfb",
   "metadata": {},
   "outputs": [
    {
     "data": {
      "text/plain": [
       "[700, 14, 56, 75, 12, 54, 100]"
      ]
     },
     "execution_count": 141,
     "metadata": {},
     "output_type": "execute_result"
    }
   ],
   "source": [
    "l"
   ]
  },
  {
   "cell_type": "code",
   "execution_count": 143,
   "id": "dd638d69-061e-494f-8332-df647855bdf3",
   "metadata": {},
   "outputs": [],
   "source": [
    "b = l.copy()"
   ]
  },
  {
   "cell_type": "code",
   "execution_count": 145,
   "id": "621dfabc-bf15-4d61-aa61-616445af29a4",
   "metadata": {},
   "outputs": [
    {
     "data": {
      "text/plain": [
       "[700, 14, 56, 75, 12, 54, 100]"
      ]
     },
     "execution_count": 145,
     "metadata": {},
     "output_type": "execute_result"
    }
   ],
   "source": [
    "b"
   ]
  },
  {
   "cell_type": "code",
   "execution_count": 147,
   "id": "41017e8a-14d4-4d8a-9587-f0e5b767d93a",
   "metadata": {},
   "outputs": [],
   "source": [
    "l[0] = 300"
   ]
  },
  {
   "cell_type": "code",
   "execution_count": 149,
   "id": "1ae7990c-c6cc-45c0-b2ab-04b45fb0b9dc",
   "metadata": {},
   "outputs": [
    {
     "data": {
      "text/plain": [
       "[300, 14, 56, 75, 12, 54, 100]"
      ]
     },
     "execution_count": 149,
     "metadata": {},
     "output_type": "execute_result"
    }
   ],
   "source": [
    "l"
   ]
  },
  {
   "cell_type": "code",
   "execution_count": 151,
   "id": "b817d4b6-53bb-4aef-a350-b569442a94b7",
   "metadata": {},
   "outputs": [
    {
     "data": {
      "text/plain": [
       "[700, 14, 56, 75, 12, 54, 100]"
      ]
     },
     "execution_count": 151,
     "metadata": {},
     "output_type": "execute_result"
    }
   ],
   "source": [
    "b"
   ]
  },
  {
   "cell_type": "code",
   "execution_count": 153,
   "id": "d79b2094-3079-4ad9-a706-91b3d3d0e6d1",
   "metadata": {},
   "outputs": [],
   "source": [
    "l = [89, 78, [90, 100], 86, 23]"
   ]
  },
  {
   "cell_type": "code",
   "execution_count": 155,
   "id": "81d43a2e-f247-413d-8047-166672168ba7",
   "metadata": {},
   "outputs": [],
   "source": [
    "b1 = l.copy()"
   ]
  },
  {
   "cell_type": "code",
   "execution_count": 157,
   "id": "312fdd98-16d2-42cf-9a79-c016f5a97205",
   "metadata": {},
   "outputs": [],
   "source": [
    "l[0] = 100"
   ]
  },
  {
   "cell_type": "code",
   "execution_count": 159,
   "id": "29912669-c198-41ed-8ef3-db46a73e228e",
   "metadata": {},
   "outputs": [
    {
     "data": {
      "text/plain": [
       "[100, 78, [90, 100], 86, 23]"
      ]
     },
     "execution_count": 159,
     "metadata": {},
     "output_type": "execute_result"
    }
   ],
   "source": [
    "l"
   ]
  },
  {
   "cell_type": "code",
   "execution_count": 161,
   "id": "c2dd49c5-eecd-4b33-967f-75a5c348eb49",
   "metadata": {},
   "outputs": [
    {
     "data": {
      "text/plain": [
       "[89, 78, [90, 100], 86, 23]"
      ]
     },
     "execution_count": 161,
     "metadata": {},
     "output_type": "execute_result"
    }
   ],
   "source": [
    "b1"
   ]
  },
  {
   "cell_type": "code",
   "execution_count": 163,
   "id": "97704031-0b11-4a5a-9d90-42685f012387",
   "metadata": {},
   "outputs": [],
   "source": [
    "l[2][1] = 2530"
   ]
  },
  {
   "cell_type": "code",
   "execution_count": 165,
   "id": "1623691f-2026-44e1-ba17-2d87b07c7ce4",
   "metadata": {},
   "outputs": [
    {
     "data": {
      "text/plain": [
       "[100, 78, [90, 2530], 86, 23]"
      ]
     },
     "execution_count": 165,
     "metadata": {},
     "output_type": "execute_result"
    }
   ],
   "source": [
    "l"
   ]
  },
  {
   "cell_type": "code",
   "execution_count": 167,
   "id": "e60df19d-e4e0-4f73-88d6-21fdfc572588",
   "metadata": {},
   "outputs": [
    {
     "data": {
      "text/plain": [
       "[89, 78, [90, 2530], 86, 23]"
      ]
     },
     "execution_count": 167,
     "metadata": {},
     "output_type": "execute_result"
    }
   ],
   "source": [
    "b1"
   ]
  },
  {
   "cell_type": "code",
   "execution_count": 171,
   "id": "101c097b-f0f2-449a-8c08-d767162a9421",
   "metadata": {},
   "outputs": [],
   "source": [
    "l = [56, 78, 23, 34, 19]"
   ]
  },
  {
   "cell_type": "code",
   "execution_count": 173,
   "id": "05943ccc-9cbd-4bcc-8626-f130d83e184c",
   "metadata": {},
   "outputs": [
    {
     "data": {
      "text/plain": [
       "[56, 78, 23, 34, 19]"
      ]
     },
     "execution_count": 173,
     "metadata": {},
     "output_type": "execute_result"
    }
   ],
   "source": [
    "l"
   ]
  },
  {
   "cell_type": "code",
   "execution_count": 175,
   "id": "17fc1fbd-776c-4423-91b1-704180688cef",
   "metadata": {},
   "outputs": [
    {
     "name": "stdout",
     "output_type": "stream",
     "text": [
      "3136\n",
      "6084\n",
      "529\n",
      "1156\n",
      "361\n"
     ]
    }
   ],
   "source": [
    "for i in l:\n",
    "    print(i ** 2)"
   ]
  },
  {
   "cell_type": "code",
   "execution_count": 177,
   "id": "83303e6f-b0f2-4c30-a1fd-ba6fa1d2b486",
   "metadata": {},
   "outputs": [
    {
     "data": {
      "text/plain": [
       "[3136, 6084, 529, 1156, 361]"
      ]
     },
     "execution_count": 177,
     "metadata": {},
     "output_type": "execute_result"
    }
   ],
   "source": [
    "newl = [i**2 for i in l]\n",
    "newl"
   ]
  },
  {
   "cell_type": "code",
   "execution_count": 179,
   "id": "bb98b0d5-1f4a-4726-9c59-ce4ff9ef7fa5",
   "metadata": {},
   "outputs": [],
   "source": [
    "nl = [i for i in l if i % 2 == 0]"
   ]
  },
  {
   "cell_type": "code",
   "execution_count": 181,
   "id": "a629064a-28b3-49f8-a937-91a326c71929",
   "metadata": {},
   "outputs": [
    {
     "data": {
      "text/plain": [
       "[56, 78, 34]"
      ]
     },
     "execution_count": 181,
     "metadata": {},
     "output_type": "execute_result"
    }
   ],
   "source": [
    "nl"
   ]
  },
  {
   "cell_type": "code",
   "execution_count": 183,
   "id": "fbdc8c82-81ab-46cc-b97f-9c82c6f8cd01",
   "metadata": {},
   "outputs": [],
   "source": [
    "names = [\"Aditya\", \"Gajanan\", \"Kashish\", \"Shreya\", \"Afifa\", \"aditi\"]"
   ]
  },
  {
   "cell_type": "code",
   "execution_count": 185,
   "id": "555bf10d-8ef7-430a-af52-178f2b60b87b",
   "metadata": {},
   "outputs": [],
   "source": [
    "# use list comprehension and creat a new list containing\n",
    "# all the names starting from 'a' or 'A'"
   ]
  },
  {
   "cell_type": "code",
   "execution_count": 187,
   "id": "6fcf0654-e6f5-4db3-926b-4681bb2fd540",
   "metadata": {},
   "outputs": [
    {
     "data": {
      "text/plain": [
       "['Aditya', 'Afifa', 'aditi']"
      ]
     },
     "execution_count": 187,
     "metadata": {},
     "output_type": "execute_result"
    }
   ],
   "source": [
    "[i for i in names if i.lower().startswith(\"a\")]"
   ]
  },
  {
   "cell_type": "code",
   "execution_count": 189,
   "id": "78dda425-25d0-42e6-b2ec-fffa3b6f7a82",
   "metadata": {},
   "outputs": [],
   "source": [
    "# create a user defined list containing integers\n",
    "# ask how many elements and which"
   ]
  },
  {
   "cell_type": "code",
   "execution_count": 193,
   "id": "edcd3693-98f9-4ee0-988f-15fb4c6bb810",
   "metadata": {},
   "outputs": [
    {
     "name": "stdin",
     "output_type": "stream",
     "text": [
      "how many elements?  5\n",
      "enter the value  1\n",
      "enter the value  2\n",
      "enter the value  3\n",
      "enter the value  89\n",
      "enter the value  67\n"
     ]
    },
    {
     "name": "stdout",
     "output_type": "stream",
     "text": [
      "[1, 2, 3, 89, 67]\n"
     ]
    }
   ],
   "source": [
    "e = []\n",
    "num = int(input(\"how many elements? \"))\n",
    "\n",
    "for i in range(num):\n",
    "    ele = int(input(\"enter the value \"))\n",
    "    e.append(ele)\n",
    "\n",
    "print(e)"
   ]
  },
  {
   "cell_type": "markdown",
   "id": "6b33cf34-4ce2-496b-82be-1fb5308d6587",
   "metadata": {},
   "source": [
    "## tuples"
   ]
  },
  {
   "cell_type": "code",
   "execution_count": 198,
   "id": "763def0a-2af9-4a3d-b6ce-3ae8e1aa22b5",
   "metadata": {},
   "outputs": [],
   "source": [
    "t = (34, 67, 8, 12, 90, 67)"
   ]
  },
  {
   "cell_type": "code",
   "execution_count": 200,
   "id": "90faefc8-aa42-4567-8324-98bd10761828",
   "metadata": {},
   "outputs": [
    {
     "data": {
      "text/plain": [
       "(34, 67, 8, 12, 90, 67)"
      ]
     },
     "execution_count": 200,
     "metadata": {},
     "output_type": "execute_result"
    }
   ],
   "source": [
    "t"
   ]
  },
  {
   "cell_type": "code",
   "execution_count": 202,
   "id": "ee2f4c9d-78b0-4da1-8378-83b03eaee9a7",
   "metadata": {},
   "outputs": [
    {
     "data": {
      "text/plain": [
       "tuple"
      ]
     },
     "execution_count": 202,
     "metadata": {},
     "output_type": "execute_result"
    }
   ],
   "source": [
    "type(t)"
   ]
  },
  {
   "cell_type": "code",
   "execution_count": 206,
   "id": "e6de6a2b-b82f-4a3e-99a0-54406e664013",
   "metadata": {},
   "outputs": [
    {
     "data": {
      "text/plain": [
       "8"
      ]
     },
     "execution_count": 206,
     "metadata": {},
     "output_type": "execute_result"
    }
   ],
   "source": [
    "t[2]  # ordered"
   ]
  },
  {
   "cell_type": "code",
   "execution_count": 208,
   "id": "65dc3bb7-dd29-4fc5-8333-61c547a8b4d8",
   "metadata": {},
   "outputs": [],
   "source": [
    "t1 = (12, 34, True)"
   ]
  },
  {
   "cell_type": "code",
   "execution_count": 210,
   "id": "20725cc3-9b33-4bc7-a820-09e7e25cfc27",
   "metadata": {},
   "outputs": [
    {
     "data": {
      "text/plain": [
       "(12, 34, True)"
      ]
     },
     "execution_count": 210,
     "metadata": {},
     "output_type": "execute_result"
    }
   ],
   "source": [
    "t1 # hetero"
   ]
  },
  {
   "cell_type": "code",
   "execution_count": 214,
   "id": "0e32c7f9-7b23-4a8e-80f1-9751458dc065",
   "metadata": {},
   "outputs": [
    {
     "ename": "TypeError",
     "evalue": "'tuple' object does not support item assignment",
     "output_type": "error",
     "traceback": [
      "\u001b[0;31m---------------------------------------------------------------------------\u001b[0m",
      "\u001b[0;31mTypeError\u001b[0m                                 Traceback (most recent call last)",
      "Cell \u001b[0;32mIn[214], line 1\u001b[0m\n\u001b[0;32m----> 1\u001b[0m t[\u001b[38;5;241m2\u001b[39m] \u001b[38;5;241m=\u001b[39m \u001b[38;5;241m45\u001b[39m\n",
      "\u001b[0;31mTypeError\u001b[0m: 'tuple' object does not support item assignment"
     ]
    }
   ],
   "source": [
    "t[2] = 45  # immutable"
   ]
  },
  {
   "cell_type": "code",
   "execution_count": 216,
   "id": "1dfb0f2a-49b1-40fb-9843-e435819e9194",
   "metadata": {},
   "outputs": [
    {
     "data": {
      "text/plain": [
       "['__add__',\n",
       " '__class__',\n",
       " '__class_getitem__',\n",
       " '__contains__',\n",
       " '__delattr__',\n",
       " '__dir__',\n",
       " '__doc__',\n",
       " '__eq__',\n",
       " '__format__',\n",
       " '__ge__',\n",
       " '__getattribute__',\n",
       " '__getitem__',\n",
       " '__getnewargs__',\n",
       " '__getstate__',\n",
       " '__gt__',\n",
       " '__hash__',\n",
       " '__init__',\n",
       " '__init_subclass__',\n",
       " '__iter__',\n",
       " '__le__',\n",
       " '__len__',\n",
       " '__lt__',\n",
       " '__mul__',\n",
       " '__ne__',\n",
       " '__new__',\n",
       " '__reduce__',\n",
       " '__reduce_ex__',\n",
       " '__repr__',\n",
       " '__rmul__',\n",
       " '__setattr__',\n",
       " '__sizeof__',\n",
       " '__str__',\n",
       " '__subclasshook__',\n",
       " 'count',\n",
       " 'index']"
      ]
     },
     "execution_count": 216,
     "metadata": {},
     "output_type": "execute_result"
    }
   ],
   "source": [
    "dir(t)"
   ]
  },
  {
   "cell_type": "code",
   "execution_count": 218,
   "id": "413bc1ab-5b1b-4a83-9a45-b3a60bb7625d",
   "metadata": {},
   "outputs": [
    {
     "name": "stdout",
     "output_type": "stream",
     "text": [
      "Help on class tuple in module builtins:\n",
      "\n",
      "class tuple(object)\n",
      " |  tuple(iterable=(), /)\n",
      " |\n",
      " |  Built-in immutable sequence.\n",
      " |\n",
      " |  If no argument is given, the constructor returns an empty tuple.\n",
      " |  If iterable is specified the tuple is initialized from iterable's items.\n",
      " |\n",
      " |  If the argument is a tuple, the return value is the same object.\n",
      " |\n",
      " |  Built-in subclasses:\n",
      " |      asyncgen_hooks\n",
      " |      MonthDayNano\n",
      " |      UnraisableHookArgs\n",
      " |\n",
      " |  Methods defined here:\n",
      " |\n",
      " |  __add__(self, value, /)\n",
      " |      Return self+value.\n",
      " |\n",
      " |  __contains__(self, key, /)\n",
      " |      Return bool(key in self).\n",
      " |\n",
      " |  __eq__(self, value, /)\n",
      " |      Return self==value.\n",
      " |\n",
      " |  __ge__(self, value, /)\n",
      " |      Return self>=value.\n",
      " |\n",
      " |  __getattribute__(self, name, /)\n",
      " |      Return getattr(self, name).\n",
      " |\n",
      " |  __getitem__(self, key, /)\n",
      " |      Return self[key].\n",
      " |\n",
      " |  __getnewargs__(self, /)\n",
      " |\n",
      " |  __gt__(self, value, /)\n",
      " |      Return self>value.\n",
      " |\n",
      " |  __hash__(self, /)\n",
      " |      Return hash(self).\n",
      " |\n",
      " |  __iter__(self, /)\n",
      " |      Implement iter(self).\n",
      " |\n",
      " |  __le__(self, value, /)\n",
      " |      Return self<=value.\n",
      " |\n",
      " |  __len__(self, /)\n",
      " |      Return len(self).\n",
      " |\n",
      " |  __lt__(self, value, /)\n",
      " |      Return self<value.\n",
      " |\n",
      " |  __mul__(self, value, /)\n",
      " |      Return self*value.\n",
      " |\n",
      " |  __ne__(self, value, /)\n",
      " |      Return self!=value.\n",
      " |\n",
      " |  __repr__(self, /)\n",
      " |      Return repr(self).\n",
      " |\n",
      " |  __rmul__(self, value, /)\n",
      " |      Return value*self.\n",
      " |\n",
      " |  count(self, value, /)\n",
      " |      Return number of occurrences of value.\n",
      " |\n",
      " |  index(self, value, start=0, stop=9223372036854775807, /)\n",
      " |      Return first index of value.\n",
      " |\n",
      " |      Raises ValueError if the value is not present.\n",
      " |\n",
      " |  ----------------------------------------------------------------------\n",
      " |  Class methods defined here:\n",
      " |\n",
      " |  __class_getitem__(...)\n",
      " |      See PEP 585\n",
      " |\n",
      " |  ----------------------------------------------------------------------\n",
      " |  Static methods defined here:\n",
      " |\n",
      " |  __new__(*args, **kwargs)\n",
      " |      Create and return a new object.  See help(type) for accurate signature.\n",
      "\n"
     ]
    }
   ],
   "source": [
    "help(tuple)"
   ]
  },
  {
   "cell_type": "markdown",
   "id": "ff2865fe-a932-47f9-8521-53c088673c83",
   "metadata": {},
   "source": [
    "## sets"
   ]
  },
  {
   "cell_type": "code",
   "execution_count": 223,
   "id": "f07caa97-5df7-401d-a620-138208417780",
   "metadata": {},
   "outputs": [],
   "source": [
    "s = {45, 67, 45, 89, 45}"
   ]
  },
  {
   "cell_type": "code",
   "execution_count": 225,
   "id": "2521a0a0-bf74-459a-b0e9-c31955d1e3b7",
   "metadata": {},
   "outputs": [
    {
     "data": {
      "text/plain": [
       "{45, 67, 89}"
      ]
     },
     "execution_count": 225,
     "metadata": {},
     "output_type": "execute_result"
    }
   ],
   "source": [
    "s"
   ]
  },
  {
   "cell_type": "code",
   "execution_count": 229,
   "id": "9893c6b3-712b-49b9-b46a-771589d6cae0",
   "metadata": {},
   "outputs": [
    {
     "ename": "TypeError",
     "evalue": "'set' object is not subscriptable",
     "output_type": "error",
     "traceback": [
      "\u001b[0;31m---------------------------------------------------------------------------\u001b[0m",
      "\u001b[0;31mTypeError\u001b[0m                                 Traceback (most recent call last)",
      "Cell \u001b[0;32mIn[229], line 1\u001b[0m\n\u001b[0;32m----> 1\u001b[0m s[\u001b[38;5;241m1\u001b[39m]\n",
      "\u001b[0;31mTypeError\u001b[0m: 'set' object is not subscriptable"
     ]
    }
   ],
   "source": [
    "s[1] # unordred"
   ]
  },
  {
   "cell_type": "code",
   "execution_count": 231,
   "id": "17cae704-bf65-4155-9e28-3562f55704cd",
   "metadata": {},
   "outputs": [],
   "source": [
    "s.add(800)"
   ]
  },
  {
   "cell_type": "code",
   "execution_count": 235,
   "id": "5eddc284-da81-4224-abb1-8efab91647a8",
   "metadata": {},
   "outputs": [
    {
     "data": {
      "text/plain": [
       "{45, 67, 89, 800}"
      ]
     },
     "execution_count": 235,
     "metadata": {},
     "output_type": "execute_result"
    }
   ],
   "source": [
    "s # mutable"
   ]
  },
  {
   "cell_type": "code",
   "execution_count": 237,
   "id": "2a4e55a3-e0aa-4d5e-a31d-23270b3e7fd6",
   "metadata": {},
   "outputs": [
    {
     "data": {
      "text/plain": [
       "frozenset({45, 67, 89, 800})"
      ]
     },
     "execution_count": 237,
     "metadata": {},
     "output_type": "execute_result"
    }
   ],
   "source": [
    "frozenset(s)"
   ]
  },
  {
   "cell_type": "code",
   "execution_count": 239,
   "id": "913fa7e6-1d59-4692-97bb-6010de031922",
   "metadata": {},
   "outputs": [],
   "source": [
    "s1 = {23, 45, 56, 78}\n",
    "s2 = {23, 45, 81, 21}"
   ]
  },
  {
   "cell_type": "code",
   "execution_count": 241,
   "id": "312843a7-9bf1-4d66-9a27-559e8a7e9560",
   "metadata": {},
   "outputs": [
    {
     "data": {
      "text/plain": [
       "{21, 23, 45, 56, 78, 81}"
      ]
     },
     "execution_count": 241,
     "metadata": {},
     "output_type": "execute_result"
    }
   ],
   "source": [
    "s1.union(s2)"
   ]
  },
  {
   "cell_type": "markdown",
   "id": "2caaa7b6-1430-4a68-a9c9-1d4a29356567",
   "metadata": {},
   "source": [
    "## dictionary"
   ]
  },
  {
   "cell_type": "code",
   "execution_count": 248,
   "id": "8faf008d-4729-4f45-a128-67aa86efda9a",
   "metadata": {},
   "outputs": [],
   "source": [
    "dict = {1: 65, 2: 45, 3: 54, 6: 76, 10: 65}"
   ]
  },
  {
   "cell_type": "code",
   "execution_count": 250,
   "id": "5e96d20a-be80-4dd4-93f7-efc2a3bd036c",
   "metadata": {},
   "outputs": [
    {
     "data": {
      "text/plain": [
       "{1: 65, 2: 45, 3: 54, 6: 76, 10: 65}"
      ]
     },
     "execution_count": 250,
     "metadata": {},
     "output_type": "execute_result"
    }
   ],
   "source": [
    "dict"
   ]
  },
  {
   "cell_type": "code",
   "execution_count": 252,
   "id": "77f22c95-67b3-4608-9f95-cf6c4e0c863f",
   "metadata": {},
   "outputs": [
    {
     "data": {
      "text/plain": [
       "dict"
      ]
     },
     "execution_count": 252,
     "metadata": {},
     "output_type": "execute_result"
    }
   ],
   "source": [
    "type(dict)"
   ]
  },
  {
   "cell_type": "code",
   "execution_count": 256,
   "id": "e1cfe3c9-07c7-4524-95f9-5e2e968f66c7",
   "metadata": {},
   "outputs": [],
   "source": [
    "dict[6] = \"Ranjit\""
   ]
  },
  {
   "cell_type": "code",
   "execution_count": 258,
   "id": "4c516d43-b978-4f5f-831a-1c201e51b5e0",
   "metadata": {},
   "outputs": [
    {
     "data": {
      "text/plain": [
       "{1: 65, 2: 45, 3: 54, 6: 'Ranjit', 10: 65}"
      ]
     },
     "execution_count": 258,
     "metadata": {},
     "output_type": "execute_result"
    }
   ],
   "source": [
    "dict"
   ]
  },
  {
   "cell_type": "code",
   "execution_count": 260,
   "id": "ef4a45cb-506b-40df-abec-18b5cf292ab5",
   "metadata": {},
   "outputs": [],
   "source": [
    "dict[10] = 80"
   ]
  },
  {
   "cell_type": "code",
   "execution_count": 262,
   "id": "37d4f1a1-a9f0-4946-b745-474780f27e65",
   "metadata": {},
   "outputs": [
    {
     "data": {
      "text/plain": [
       "{1: 65, 2: 45, 3: 54, 6: 'Ranjit', 10: 80}"
      ]
     },
     "execution_count": 262,
     "metadata": {},
     "output_type": "execute_result"
    }
   ],
   "source": [
    "dict"
   ]
  },
  {
   "cell_type": "code",
   "execution_count": 264,
   "id": "bb121356-1c5e-46c7-a37a-77aa3a18d85d",
   "metadata": {},
   "outputs": [
    {
     "data": {
      "text/plain": [
       "dict_keys([1, 2, 3, 6, 10])"
      ]
     },
     "execution_count": 264,
     "metadata": {},
     "output_type": "execute_result"
    }
   ],
   "source": [
    "dict.keys()"
   ]
  },
  {
   "cell_type": "code",
   "execution_count": 266,
   "id": "d075c1b7-6277-405b-a37d-e45084b682c4",
   "metadata": {},
   "outputs": [
    {
     "data": {
      "text/plain": [
       "dict_values([65, 45, 54, 'Ranjit', 80])"
      ]
     },
     "execution_count": 266,
     "metadata": {},
     "output_type": "execute_result"
    }
   ],
   "source": [
    "dict.values()"
   ]
  },
  {
   "cell_type": "code",
   "execution_count": null,
   "id": "0d1d906a-5d9f-46a7-9d1e-3da87e318b2e",
   "metadata": {},
   "outputs": [],
   "source": []
  }
 ],
 "metadata": {
  "kernelspec": {
   "display_name": "Python 3 (ipykernel)",
   "language": "python",
   "name": "python3"
  },
  "language_info": {
   "codemirror_mode": {
    "name": "ipython",
    "version": 3
   },
   "file_extension": ".py",
   "mimetype": "text/x-python",
   "name": "python",
   "nbconvert_exporter": "python",
   "pygments_lexer": "ipython3",
   "version": "3.12.4"
  }
 },
 "nbformat": 4,
 "nbformat_minor": 5
}
