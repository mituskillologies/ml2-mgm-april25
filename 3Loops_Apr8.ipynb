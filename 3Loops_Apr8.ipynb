{
 "cells": [
  {
   "cell_type": "markdown",
   "id": "ea9017f1-ca4e-426f-b0d8-fd771854cca0",
   "metadata": {},
   "source": [
    "#### While loop"
   ]
  },
  {
   "cell_type": "code",
   "execution_count": 5,
   "id": "e62f3c3f-d7d2-47ce-bdf7-e64b8d3bfdc9",
   "metadata": {},
   "outputs": [
    {
     "name": "stdout",
     "output_type": "stream",
     "text": [
      "Nanded Nanded Nanded Nanded Nanded Nanded Nanded Nanded Nanded Nanded "
     ]
    }
   ],
   "source": [
    "count = 1\n",
    "\n",
    "while count <= 10:\n",
    "    print(\"Nanded\", end = \" \")\n",
    "    count += 1"
   ]
  },
  {
   "cell_type": "code",
   "execution_count": 7,
   "id": "1b9643c2-d656-4fd2-959c-fa3f4ce823c2",
   "metadata": {},
   "outputs": [
    {
     "data": {
      "text/plain": [
       "11"
      ]
     },
     "execution_count": 7,
     "metadata": {},
     "output_type": "execute_result"
    }
   ],
   "source": [
    "count"
   ]
  },
  {
   "cell_type": "code",
   "execution_count": 9,
   "id": "6c91d9e2-4db0-4a3c-8359-da184aa43eff",
   "metadata": {},
   "outputs": [],
   "source": [
    "# find the addition of 1 to 10 numbers"
   ]
  },
  {
   "cell_type": "code",
   "execution_count": 15,
   "id": "f5ab5a96-bef5-43f4-9800-e9010f712602",
   "metadata": {},
   "outputs": [
    {
     "name": "stdout",
     "output_type": "stream",
     "text": [
      "55\n"
     ]
    }
   ],
   "source": [
    "count = 1\n",
    "add = 0\n",
    "\n",
    "while count <= 10:\n",
    "    add = add + count\n",
    "    count += 1\n",
    "\n",
    "print(add)"
   ]
  },
  {
   "cell_type": "code",
   "execution_count": 17,
   "id": "8b858a02-98b3-43a4-bb76-042aec00949c",
   "metadata": {},
   "outputs": [],
   "source": [
    "\"\"\"while True:\n",
    "    print(\"ok\")\"\"\";"
   ]
  },
  {
   "cell_type": "markdown",
   "id": "c72298be-441d-4bfd-b4a9-07c01da8dd4d",
   "metadata": {},
   "source": [
    "### For Loop"
   ]
  },
  {
   "cell_type": "code",
   "execution_count": 20,
   "id": "09b3dd80-6b07-4d84-ad9a-7f9eabdb080b",
   "metadata": {},
   "outputs": [
    {
     "name": "stdout",
     "output_type": "stream",
     "text": [
      "45\n",
      "56\n",
      "72\n",
      "40\n"
     ]
    }
   ],
   "source": [
    "for i in 45, 56, 72, 40:\n",
    "    print(i)"
   ]
  },
  {
   "cell_type": "code",
   "execution_count": 22,
   "id": "db47df0e-574e-44d0-9bb4-14419116b79a",
   "metadata": {},
   "outputs": [
    {
     "name": "stdout",
     "output_type": "stream",
     "text": [
      "ok\n",
      "ok\n",
      "ok\n",
      "ok\n"
     ]
    }
   ],
   "source": [
    "for i in 45, 56, 72, 40:\n",
    "    print(\"ok\")"
   ]
  },
  {
   "cell_type": "code",
   "execution_count": 24,
   "id": "7aceec82-ca48-492f-adc0-72f60342468d",
   "metadata": {},
   "outputs": [],
   "source": [
    "# range"
   ]
  },
  {
   "cell_type": "code",
   "execution_count": 26,
   "id": "3fb00521-bcaa-4249-9014-16ed37d38e99",
   "metadata": {},
   "outputs": [],
   "source": [
    "# start = 0, end, step = 1"
   ]
  },
  {
   "cell_type": "code",
   "execution_count": 28,
   "id": "fe3dd889-7e0b-4a8c-a8b4-6398e7fdd938",
   "metadata": {},
   "outputs": [
    {
     "data": {
      "text/plain": [
       "[0, 1, 2, 3, 4, 5, 6, 7, 8, 9]"
      ]
     },
     "execution_count": 28,
     "metadata": {},
     "output_type": "execute_result"
    }
   ],
   "source": [
    "list(range(10))"
   ]
  },
  {
   "cell_type": "code",
   "execution_count": 30,
   "id": "663b68da-9761-47af-81ba-756d3906afcc",
   "metadata": {},
   "outputs": [
    {
     "data": {
      "text/plain": [
       "[10, 11, 12, 13, 14, 15, 16, 17, 18, 19, 20]"
      ]
     },
     "execution_count": 30,
     "metadata": {},
     "output_type": "execute_result"
    }
   ],
   "source": [
    "list(range(10, 21))"
   ]
  },
  {
   "cell_type": "code",
   "execution_count": 32,
   "id": "152e6e83-835a-4b59-b21d-89ab903b5d00",
   "metadata": {},
   "outputs": [
    {
     "data": {
      "text/plain": [
       "[10, 12, 14, 16, 18, 20]"
      ]
     },
     "execution_count": 32,
     "metadata": {},
     "output_type": "execute_result"
    }
   ],
   "source": [
    "list(range(10, 21, 2))"
   ]
  },
  {
   "cell_type": "code",
   "execution_count": 34,
   "id": "eee86720-6a6a-474f-b2af-f276cac6ea29",
   "metadata": {},
   "outputs": [
    {
     "name": "stdout",
     "output_type": "stream",
     "text": [
      "100\n"
     ]
    }
   ],
   "source": [
    "# find addition of odd numbers from 1 to 20\n",
    "add = 0\n",
    "for i in range(1, 21, 2):\n",
    "    add = add + i\n",
    "\n",
    "print(add)"
   ]
  },
  {
   "cell_type": "code",
   "execution_count": 36,
   "id": "7ab9d4f8-2964-400c-ae8b-45e03b972248",
   "metadata": {},
   "outputs": [],
   "source": [
    "# loop control statement"
   ]
  },
  {
   "cell_type": "code",
   "execution_count": 42,
   "id": "d0742fdc-6bf4-4434-90e3-ca1f377cfb40",
   "metadata": {},
   "outputs": [
    {
     "name": "stdout",
     "output_type": "stream",
     "text": [
      "1\n",
      "2\n",
      "3\n",
      "4\n",
      "5\n"
     ]
    }
   ],
   "source": [
    "for i in range(1,11):\n",
    "    print(i)\n",
    "    if i == 5:\n",
    "        break"
   ]
  },
  {
   "cell_type": "code",
   "execution_count": 46,
   "id": "2b1a6113-f639-45ba-af86-337f6d12f5aa",
   "metadata": {},
   "outputs": [
    {
     "name": "stdout",
     "output_type": "stream",
     "text": [
      "1\n",
      "2\n",
      "3\n",
      "4\n",
      "6\n",
      "7\n",
      "8\n",
      "9\n",
      "10\n"
     ]
    }
   ],
   "source": [
    "for i in range(1,11):\n",
    "    if i == 5:\n",
    "        continue\n",
    "    print(i)\n",
    "    "
   ]
  },
  {
   "cell_type": "code",
   "execution_count": null,
   "id": "f1a74567-3e4b-4b80-b7c2-afedc29a0486",
   "metadata": {},
   "outputs": [],
   "source": []
  }
 ],
 "metadata": {
  "kernelspec": {
   "display_name": "Python 3 (ipykernel)",
   "language": "python",
   "name": "python3"
  },
  "language_info": {
   "codemirror_mode": {
    "name": "ipython",
    "version": 3
   },
   "file_extension": ".py",
   "mimetype": "text/x-python",
   "name": "python",
   "nbconvert_exporter": "python",
   "pygments_lexer": "ipython3",
   "version": "3.12.4"
  }
 },
 "nbformat": 4,
 "nbformat_minor": 5
}
