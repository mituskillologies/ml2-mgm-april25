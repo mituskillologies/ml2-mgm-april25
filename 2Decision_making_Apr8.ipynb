{
 "cells": [
  {
   "cell_type": "code",
   "execution_count": 2,
   "id": "06b044ac-ab01-42a9-bc58-511ade48675b",
   "metadata": {},
   "outputs": [
    {
     "name": "stdout",
     "output_type": "stream",
     "text": [
      "OK\n"
     ]
    }
   ],
   "source": [
    "num = 15\n",
    "\n",
    "if num > 10:\n",
    "    print(\"OK\")"
   ]
  },
  {
   "cell_type": "code",
   "execution_count": 4,
   "id": "2b5dcb8b-a9ad-4e7f-bf8c-0e573daf86fd",
   "metadata": {},
   "outputs": [],
   "source": [
    "num = 15\n",
    "\n",
    "if num > 17:\n",
    "    print(\"OK\")"
   ]
  },
  {
   "cell_type": "code",
   "execution_count": 8,
   "id": "a79ae02e-ab69-4bd4-b74d-1a7d2b077add",
   "metadata": {},
   "outputs": [
    {
     "name": "stdin",
     "output_type": "stream",
     "text": [
      "Enter the number  3\n"
     ]
    },
    {
     "name": "stdout",
     "output_type": "stream",
     "text": [
      "Odd\n"
     ]
    }
   ],
   "source": [
    "# check if the number is even or odd\n",
    "\n",
    "num = int(input(\"Enter the number \"))\n",
    "\n",
    "if num % 2 == 0:\n",
    "    print(\"Even\")\n",
    "else:\n",
    "    print(\"Odd\")"
   ]
  },
  {
   "cell_type": "code",
   "execution_count": 12,
   "id": "a729421e-5a79-4b85-879e-ffe53e338e6f",
   "metadata": {},
   "outputs": [
    {
     "name": "stdin",
     "output_type": "stream",
     "text": [
      "Enter the number  0\n"
     ]
    },
    {
     "name": "stdout",
     "output_type": "stream",
     "text": [
      "Zero\n"
     ]
    }
   ],
   "source": [
    "# positive or negative\n",
    "\n",
    "num = int(input(\"Enter the number \"))\n",
    "\n",
    "if num > 0:\n",
    "    print(\"positive\")\n",
    "elif num == 0:\n",
    "    print(\"Zero\")\n",
    "else:\n",
    "    print(\"negative\")"
   ]
  },
  {
   "cell_type": "code",
   "execution_count": null,
   "id": "b91d45ea-eb83-4c91-96a6-74ea8975e774",
   "metadata": {},
   "outputs": [],
   "source": [
    "\"\"\"\n",
    "2020 -> leap\n",
    "2017 -> not leap\n",
    "2000 -> leap\n",
    "1800 -> not leap\n",
    "\n",
    "write a program to check if the year is leap or not\n",
    "use nested if only (not allowed => and, or)\n",
    "\"\"\""
   ]
  },
  {
   "cell_type": "code",
   "execution_count": 20,
   "id": "4d8b4a23-a913-41a9-98d5-ca22b2fd60a0",
   "metadata": {},
   "outputs": [
    {
     "name": "stdin",
     "output_type": "stream",
     "text": [
      "enter the year 1800\n"
     ]
    },
    {
     "name": "stdout",
     "output_type": "stream",
     "text": [
      "century but not leap\n"
     ]
    }
   ],
   "source": [
    "year = int(input(\"enter the year\"))\n",
    "\n",
    "if year % 4 == 0:\n",
    "    if year % 100 == 0:\n",
    "        if year % 400 == 0:\n",
    "            print(\"Leap century year\")\n",
    "        else:\n",
    "            print(\"century but not leap\")\n",
    "    else:\n",
    "        print(\"Leap year\")\n",
    "else:\n",
    "    print(\"Not leap\")"
   ]
  },
  {
   "cell_type": "code",
   "execution_count": 22,
   "id": "8b3b2de7-7286-4495-9d77-9a299b705ee6",
   "metadata": {},
   "outputs": [],
   "source": [
    "# menu driven"
   ]
  },
  {
   "cell_type": "code",
   "execution_count": 30,
   "id": "84b8cbbf-ea04-4c47-92dc-67a02631cec8",
   "metadata": {},
   "outputs": [
    {
     "name": "stdout",
     "output_type": "stream",
     "text": [
      "Welcome!!!\n"
     ]
    },
    {
     "name": "stdin",
     "output_type": "stream",
     "text": [
      "Enter the number  10\n"
     ]
    },
    {
     "name": "stdout",
     "output_type": "stream",
     "text": [
      "MENU\n",
      "1. square\n",
      "2. cube\n",
      "3. positive or negative\n"
     ]
    },
    {
     "name": "stdin",
     "output_type": "stream",
     "text": [
      "Enter the choice 18725\n"
     ]
    },
    {
     "name": "stdout",
     "output_type": "stream",
     "text": [
      "Visit the nearest eye clinic !!!\n"
     ]
    }
   ],
   "source": [
    "print(\"Welcome!!!\")\n",
    "\n",
    "num = int(input(\"Enter the number \"))\n",
    "\n",
    "print(\"MENU\\n1. square\\n2. cube\\n3. positive or negative\")\n",
    "\n",
    "ch = int(input(\"Enter the choice\"))\n",
    "\n",
    "if ch == 1:\n",
    "    print(num * num)\n",
    "elif ch == 2:\n",
    "    print(num ** 3)\n",
    "elif ch == 3:\n",
    "    if num > 0:\n",
    "        print(\"positive\")\n",
    "    elif num == 0:\n",
    "        print(\"Zero\")\n",
    "    else:\n",
    "        print(\"negative\")\n",
    "else:\n",
    "    print(\"Visit the nearest eye clinic !!!\")"
   ]
  },
  {
   "cell_type": "code",
   "execution_count": 34,
   "id": "2c695096-c6e5-4f2e-86fe-b9e7fb9182cb",
   "metadata": {},
   "outputs": [],
   "source": [
    "num = 15\n",
    "\n",
    "if num > 10:\n",
    "    pass"
   ]
  },
  {
   "cell_type": "code",
   "execution_count": null,
   "id": "6446e41d-d12c-4db0-be8e-b0c7c7f0125d",
   "metadata": {},
   "outputs": [],
   "source": []
  }
 ],
 "metadata": {
  "kernelspec": {
   "display_name": "Python 3 (ipykernel)",
   "language": "python",
   "name": "python3"
  },
  "language_info": {
   "codemirror_mode": {
    "name": "ipython",
    "version": 3
   },
   "file_extension": ".py",
   "mimetype": "text/x-python",
   "name": "python",
   "nbconvert_exporter": "python",
   "pygments_lexer": "ipython3",
   "version": "3.12.4"
  }
 },
 "nbformat": 4,
 "nbformat_minor": 5
}
