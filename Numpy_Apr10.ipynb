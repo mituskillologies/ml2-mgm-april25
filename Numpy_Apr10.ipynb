{
 "cells": [
  {
   "cell_type": "code",
   "execution_count": 1,
   "id": "39723c99-086f-4dca-9698-b1155d5cd4e9",
   "metadata": {},
   "outputs": [],
   "source": [
    "# !pip install numpy"
   ]
  },
  {
   "cell_type": "code",
   "execution_count": 2,
   "id": "e138dc3c-bc77-4466-80b8-53dd65fbe1d7",
   "metadata": {},
   "outputs": [],
   "source": [
    "import numpy as np"
   ]
  },
  {
   "cell_type": "code",
   "execution_count": 3,
   "id": "f78e7018-13a3-4ab6-9b29-df06271411d0",
   "metadata": {},
   "outputs": [],
   "source": [
    "a = np.array([12, 34, 56, 78, 20])"
   ]
  },
  {
   "cell_type": "code",
   "execution_count": 4,
   "id": "b7ade0ce-1652-43d2-b8c4-5ca75d6859a7",
   "metadata": {},
   "outputs": [
    {
     "data": {
      "text/plain": [
       "array([12, 34, 56, 78, 20])"
      ]
     },
     "execution_count": 4,
     "metadata": {},
     "output_type": "execute_result"
    }
   ],
   "source": [
    "a"
   ]
  },
  {
   "cell_type": "code",
   "execution_count": 5,
   "id": "b40fc037-c37c-4b0d-a093-f696c94a99ed",
   "metadata": {},
   "outputs": [
    {
     "name": "stdout",
     "output_type": "stream",
     "text": [
      "[12 34 56 78 20]\n"
     ]
    }
   ],
   "source": [
    "print(a)"
   ]
  },
  {
   "cell_type": "code",
   "execution_count": 6,
   "id": "ddbfc0d3-e2a1-4299-820b-c5ba7f1d5bd8",
   "metadata": {},
   "outputs": [
    {
     "data": {
      "text/plain": [
       "numpy.ndarray"
      ]
     },
     "execution_count": 6,
     "metadata": {},
     "output_type": "execute_result"
    }
   ],
   "source": [
    "type(a)"
   ]
  },
  {
   "cell_type": "code",
   "execution_count": 7,
   "id": "878fbe0d-15e4-4712-bc25-37abfe98e6b0",
   "metadata": {},
   "outputs": [
    {
     "data": {
      "text/plain": [
       "(5,)"
      ]
     },
     "execution_count": 7,
     "metadata": {},
     "output_type": "execute_result"
    }
   ],
   "source": [
    "a.shape"
   ]
  },
  {
   "cell_type": "code",
   "execution_count": 8,
   "id": "3fa8be90-9176-45be-92cb-b2931bb0ca01",
   "metadata": {},
   "outputs": [
    {
     "data": {
      "text/plain": [
       "1"
      ]
     },
     "execution_count": 8,
     "metadata": {},
     "output_type": "execute_result"
    }
   ],
   "source": [
    "a.ndim"
   ]
  },
  {
   "cell_type": "code",
   "execution_count": 9,
   "id": "b36d5ea8-55a7-4012-8b22-c6d55c220e8e",
   "metadata": {},
   "outputs": [],
   "source": [
    "b = np.array([12, 34, 11.23, True, \"Ranjit\"])"
   ]
  },
  {
   "cell_type": "code",
   "execution_count": 10,
   "id": "8769c4ad-37a2-4bd1-861d-28131bea96d2",
   "metadata": {},
   "outputs": [
    {
     "data": {
      "text/plain": [
       "array(['12', '34', '11.23', 'True', 'Ranjit'], dtype='<U32')"
      ]
     },
     "execution_count": 10,
     "metadata": {},
     "output_type": "execute_result"
    }
   ],
   "source": [
    "b"
   ]
  },
  {
   "cell_type": "code",
   "execution_count": 11,
   "id": "f260b5a5-c1e8-48d1-8543-654f92ebf8db",
   "metadata": {},
   "outputs": [
    {
     "data": {
      "text/plain": [
       "dtype('<U32')"
      ]
     },
     "execution_count": 11,
     "metadata": {},
     "output_type": "execute_result"
    }
   ],
   "source": [
    "b.dtype"
   ]
  },
  {
   "cell_type": "code",
   "execution_count": 12,
   "id": "6bcf3e9e-0bb2-4ec8-8b29-6e33aff1352b",
   "metadata": {},
   "outputs": [],
   "source": [
    "c = np.array([23, 45, 67, 9.32, 10])"
   ]
  },
  {
   "cell_type": "code",
   "execution_count": 13,
   "id": "6c7534da-c105-4dbd-bb4d-fefd928b6a7a",
   "metadata": {},
   "outputs": [
    {
     "data": {
      "text/plain": [
       "dtype('float64')"
      ]
     },
     "execution_count": 13,
     "metadata": {},
     "output_type": "execute_result"
    }
   ],
   "source": [
    "c.dtype"
   ]
  },
  {
   "cell_type": "code",
   "execution_count": 14,
   "id": "7d9cdc99-2593-4c0c-8ffd-72d32217139f",
   "metadata": {},
   "outputs": [
    {
     "data": {
      "text/plain": [
       "array([12, 34, 56, 78, 20])"
      ]
     },
     "execution_count": 14,
     "metadata": {},
     "output_type": "execute_result"
    }
   ],
   "source": [
    "a"
   ]
  },
  {
   "cell_type": "code",
   "execution_count": 15,
   "id": "0d02af7d-8d26-4d14-a443-a86d689944d7",
   "metadata": {},
   "outputs": [
    {
     "data": {
      "text/plain": [
       "array([ 24,  68, 112, 156,  40])"
      ]
     },
     "execution_count": 15,
     "metadata": {},
     "output_type": "execute_result"
    }
   ],
   "source": [
    "a * 2"
   ]
  },
  {
   "cell_type": "code",
   "execution_count": 16,
   "id": "aad6ba92-1863-4df5-820b-223e83a6c297",
   "metadata": {},
   "outputs": [],
   "source": [
    "# speed test"
   ]
  },
  {
   "cell_type": "code",
   "execution_count": 17,
   "id": "1bb36796-182d-47cb-9905-e89984c6c408",
   "metadata": {},
   "outputs": [],
   "source": [
    "values = 1000000\n",
    "\n",
    "list1 = list(range(values))\n",
    "arr1 = np.array(list1)"
   ]
  },
  {
   "cell_type": "code",
   "execution_count": 18,
   "id": "6f8002f6-5b75-497b-9cf4-1c49627d288f",
   "metadata": {},
   "outputs": [],
   "source": [
    "import time"
   ]
  },
  {
   "cell_type": "code",
   "execution_count": 19,
   "id": "79fa3061-a21e-46db-9b13-dc88898a6a57",
   "metadata": {},
   "outputs": [
    {
     "data": {
      "text/plain": [
       "1744304866.786178"
      ]
     },
     "execution_count": 19,
     "metadata": {},
     "output_type": "execute_result"
    }
   ],
   "source": [
    "time.time()"
   ]
  },
  {
   "cell_type": "code",
   "execution_count": 20,
   "id": "9d57b692-1c6d-44d5-a8ab-7f8e9973e142",
   "metadata": {},
   "outputs": [
    {
     "name": "stdout",
     "output_type": "stream",
     "text": [
      "time taken by the list is -> 0.021358251571655273\n"
     ]
    }
   ],
   "source": [
    "start_time = time.time()\n",
    "newl = [i * 2 for i in list1]\n",
    "final_time1 = time.time() - start_time\n",
    "print(f\"time taken by the list is -> {final_time1}\")"
   ]
  },
  {
   "cell_type": "code",
   "execution_count": 21,
   "id": "26fbd09f-7410-4619-b1ee-2f3276d9167a",
   "metadata": {},
   "outputs": [
    {
     "name": "stdout",
     "output_type": "stream",
     "text": [
      "time taken by the array is -> 0.0019683837890625\n"
     ]
    }
   ],
   "source": [
    "start_time = time.time()\n",
    "newarr = arr1 * 2\n",
    "final_time2 = time.time() - start_time\n",
    "print(f\"time taken by the array is -> {final_time2}\")"
   ]
  },
  {
   "cell_type": "code",
   "execution_count": 22,
   "id": "dd8c95a0-d30a-4478-ba5f-57cb1d90a93e",
   "metadata": {},
   "outputs": [
    {
     "data": {
      "text/plain": [
       "10.850654069767442"
      ]
     },
     "execution_count": 22,
     "metadata": {},
     "output_type": "execute_result"
    }
   ],
   "source": [
    "final_time1/final_time2"
   ]
  },
  {
   "cell_type": "code",
   "execution_count": 23,
   "id": "67e14ef9-4b4a-43f5-a988-09f2df26a36e",
   "metadata": {},
   "outputs": [],
   "source": [
    "# arange"
   ]
  },
  {
   "cell_type": "code",
   "execution_count": 24,
   "id": "e359eab9-003f-4311-9793-65995dcc7191",
   "metadata": {},
   "outputs": [
    {
     "data": {
      "text/plain": [
       "array([ 0,  1,  2,  3,  4,  5,  6,  7,  8,  9, 10])"
      ]
     },
     "execution_count": 24,
     "metadata": {},
     "output_type": "execute_result"
    }
   ],
   "source": [
    "np.arange(11)"
   ]
  },
  {
   "cell_type": "code",
   "execution_count": 25,
   "id": "40f532c4-f39f-4921-adcb-23bd037d5e03",
   "metadata": {},
   "outputs": [
    {
     "data": {
      "text/plain": [
       "array([ 5,  6,  7,  8,  9, 10, 11, 12, 13, 14, 15, 16, 17, 18, 19, 20])"
      ]
     },
     "execution_count": 25,
     "metadata": {},
     "output_type": "execute_result"
    }
   ],
   "source": [
    "np.arange(5, 21)"
   ]
  },
  {
   "cell_type": "code",
   "execution_count": 26,
   "id": "bfe9058f-7eda-4552-b23b-523bae97615c",
   "metadata": {},
   "outputs": [
    {
     "data": {
      "text/plain": [
       "array([-5. , -4.5, -4. , -3.5, -3. , -2.5, -2. , -1.5, -1. , -0.5,  0. ,\n",
       "        0.5,  1. ,  1.5,  2. ,  2.5,  3. ,  3.5,  4. ,  4.5])"
      ]
     },
     "execution_count": 26,
     "metadata": {},
     "output_type": "execute_result"
    }
   ],
   "source": [
    "np.arange(-5, 5, 0.5)"
   ]
  },
  {
   "cell_type": "code",
   "execution_count": 27,
   "id": "35296fc8-11e3-4a4e-a877-0c8c1cd37a19",
   "metadata": {},
   "outputs": [
    {
     "data": {
      "text/plain": [
       "array([0., 0., 0., 0., 0., 0., 0., 0., 0., 0.])"
      ]
     },
     "execution_count": 27,
     "metadata": {},
     "output_type": "execute_result"
    }
   ],
   "source": [
    "np.zeros(10)"
   ]
  },
  {
   "cell_type": "code",
   "execution_count": 28,
   "id": "a5a0b859-7093-416d-9fd1-17c217a57529",
   "metadata": {},
   "outputs": [
    {
     "data": {
      "text/plain": [
       "array([1., 1., 1., 1., 1., 1., 1., 1., 1., 1.])"
      ]
     },
     "execution_count": 28,
     "metadata": {},
     "output_type": "execute_result"
    }
   ],
   "source": [
    "np.ones(10)"
   ]
  },
  {
   "cell_type": "code",
   "execution_count": 29,
   "id": "97dec003-855d-4201-a87c-60b9c57a1203",
   "metadata": {},
   "outputs": [],
   "source": [
    "# 2d arrays"
   ]
  },
  {
   "cell_type": "code",
   "execution_count": 30,
   "id": "32271f84-3d41-4807-ba44-75a50fbf16f4",
   "metadata": {},
   "outputs": [],
   "source": [
    "arr = np.array([[1, 3, 4], [12, 5, 6], [2, 5, 4], [5, 7, 2]])"
   ]
  },
  {
   "cell_type": "code",
   "execution_count": 31,
   "id": "32b80d1e-0341-4f41-8fb2-bf0f6a643007",
   "metadata": {},
   "outputs": [
    {
     "data": {
      "text/plain": [
       "array([[ 1,  3,  4],\n",
       "       [12,  5,  6],\n",
       "       [ 2,  5,  4],\n",
       "       [ 5,  7,  2]])"
      ]
     },
     "execution_count": 31,
     "metadata": {},
     "output_type": "execute_result"
    }
   ],
   "source": [
    "arr"
   ]
  },
  {
   "cell_type": "code",
   "execution_count": 32,
   "id": "6aa9a1e9-3fd8-4f8f-bd5f-447141fcb597",
   "metadata": {},
   "outputs": [
    {
     "data": {
      "text/plain": [
       "(4, 3)"
      ]
     },
     "execution_count": 32,
     "metadata": {},
     "output_type": "execute_result"
    }
   ],
   "source": [
    "arr.shape"
   ]
  },
  {
   "cell_type": "code",
   "execution_count": 33,
   "id": "4d4e3afe-852d-48d2-abb1-35defe6e17fa",
   "metadata": {},
   "outputs": [
    {
     "data": {
      "text/plain": [
       "12"
      ]
     },
     "execution_count": 33,
     "metadata": {},
     "output_type": "execute_result"
    }
   ],
   "source": [
    "arr.size"
   ]
  },
  {
   "cell_type": "code",
   "execution_count": 34,
   "id": "f769a513-625b-4ef0-a7fe-43072885c580",
   "metadata": {},
   "outputs": [
    {
     "data": {
      "text/plain": [
       "2"
      ]
     },
     "execution_count": 34,
     "metadata": {},
     "output_type": "execute_result"
    }
   ],
   "source": [
    "arr.ndim"
   ]
  },
  {
   "cell_type": "code",
   "execution_count": 35,
   "id": "13e3dbc1-794c-4209-b919-a25b9c37b7c5",
   "metadata": {},
   "outputs": [
    {
     "data": {
      "text/plain": [
       "array([ 1,  3,  4, 12,  5,  6,  2,  5,  4,  5,  7,  2])"
      ]
     },
     "execution_count": 35,
     "metadata": {},
     "output_type": "execute_result"
    }
   ],
   "source": [
    "arr.flatten()"
   ]
  },
  {
   "cell_type": "code",
   "execution_count": 36,
   "id": "14601c62-229f-4fd3-8c87-74b03e999af8",
   "metadata": {},
   "outputs": [
    {
     "data": {
      "text/plain": [
       "array([[ 1,  3,  4, 12],\n",
       "       [ 5,  6,  2,  5],\n",
       "       [ 4,  5,  7,  2]])"
      ]
     },
     "execution_count": 36,
     "metadata": {},
     "output_type": "execute_result"
    }
   ],
   "source": [
    "arr.reshape(3, 4)"
   ]
  },
  {
   "cell_type": "code",
   "execution_count": 37,
   "id": "fab43e5f-fd60-44ee-8b25-2e2ca9bcea40",
   "metadata": {},
   "outputs": [
    {
     "data": {
      "text/plain": [
       "array([[ 1,  3,  4, 12,  5,  6],\n",
       "       [ 2,  5,  4,  5,  7,  2]])"
      ]
     },
     "execution_count": 37,
     "metadata": {},
     "output_type": "execute_result"
    }
   ],
   "source": [
    "arr.reshape(2, 6)"
   ]
  },
  {
   "cell_type": "code",
   "execution_count": 38,
   "id": "49f8506d-2c2a-480a-a890-ef4b9aecc60c",
   "metadata": {},
   "outputs": [
    {
     "data": {
      "text/plain": [
       "array([[[ 1,  3],\n",
       "        [ 4, 12]],\n",
       "\n",
       "       [[ 5,  6],\n",
       "        [ 2,  5]],\n",
       "\n",
       "       [[ 4,  5],\n",
       "        [ 7,  2]]])"
      ]
     },
     "execution_count": 38,
     "metadata": {},
     "output_type": "execute_result"
    }
   ],
   "source": [
    "arr.reshape(3, 2, 2)"
   ]
  },
  {
   "cell_type": "code",
   "execution_count": 39,
   "id": "bfd6126d-e698-499d-9c0f-fe2b8db50f49",
   "metadata": {},
   "outputs": [
    {
     "data": {
      "text/plain": [
       "3"
      ]
     },
     "execution_count": 39,
     "metadata": {},
     "output_type": "execute_result"
    }
   ],
   "source": [
    "arr.reshape(3, 2, 2).ndim"
   ]
  },
  {
   "cell_type": "code",
   "execution_count": 40,
   "id": "b551a0f7-b051-4259-8690-97121fbb6021",
   "metadata": {},
   "outputs": [
    {
     "data": {
      "text/plain": [
       "array([[ 1,  3,  4, 12,  5,  6],\n",
       "       [ 2,  5,  4,  5,  7,  2]])"
      ]
     },
     "execution_count": 40,
     "metadata": {},
     "output_type": "execute_result"
    }
   ],
   "source": [
    "arr.reshape(2, -1)"
   ]
  },
  {
   "cell_type": "code",
   "execution_count": 41,
   "id": "c9eb21f8-f0a9-4dd3-8167-9ac5fc6eea44",
   "metadata": {},
   "outputs": [
    {
     "data": {
      "text/plain": [
       "array([[[ 1],\n",
       "        [ 3],\n",
       "        [ 4]],\n",
       "\n",
       "       [[12],\n",
       "        [ 5],\n",
       "        [ 6]],\n",
       "\n",
       "       [[ 2],\n",
       "        [ 5],\n",
       "        [ 4]],\n",
       "\n",
       "       [[ 5],\n",
       "        [ 7],\n",
       "        [ 2]]])"
      ]
     },
     "execution_count": 41,
     "metadata": {},
     "output_type": "execute_result"
    }
   ],
   "source": [
    "arr.reshape(4, 3, -1)"
   ]
  },
  {
   "cell_type": "code",
   "execution_count": 42,
   "id": "d4278704-9e29-44d8-b283-e8fa37ac9ea6",
   "metadata": {},
   "outputs": [
    {
     "data": {
      "text/plain": [
       "array([[ 1,  3,  4],\n",
       "       [12,  5,  6],\n",
       "       [ 2,  5,  4],\n",
       "       [ 5,  7,  2]])"
      ]
     },
     "execution_count": 42,
     "metadata": {},
     "output_type": "execute_result"
    }
   ],
   "source": [
    "arr"
   ]
  },
  {
   "cell_type": "code",
   "execution_count": 43,
   "id": "c1f46f7c-1d37-47f2-8643-2b9a9f119b3c",
   "metadata": {},
   "outputs": [
    {
     "data": {
      "text/plain": [
       "array([[12,  5],\n",
       "       [ 2,  5]])"
      ]
     },
     "execution_count": 43,
     "metadata": {},
     "output_type": "execute_result"
    }
   ],
   "source": [
    "arr[1:3, 0:2]"
   ]
  },
  {
   "cell_type": "code",
   "execution_count": 44,
   "id": "ddc3f3a3-fad0-449e-9506-8f72addd8da0",
   "metadata": {},
   "outputs": [
    {
     "data": {
      "text/plain": [
       "array([[5, 6],\n",
       "       [5, 4],\n",
       "       [7, 2]])"
      ]
     },
     "execution_count": 44,
     "metadata": {},
     "output_type": "execute_result"
    }
   ],
   "source": [
    "arr[1:, 1:]"
   ]
  },
  {
   "cell_type": "code",
   "execution_count": 45,
   "id": "a50afda4-cc46-44dc-8a0e-fb4c96bcb4af",
   "metadata": {},
   "outputs": [
    {
     "data": {
      "text/plain": [
       "array([[ 1,  3,  4],\n",
       "       [12,  5,  6],\n",
       "       [ 2,  5,  4],\n",
       "       [ 5,  7,  2]])"
      ]
     },
     "execution_count": 45,
     "metadata": {},
     "output_type": "execute_result"
    }
   ],
   "source": [
    "arr[:,:]"
   ]
  },
  {
   "cell_type": "markdown",
   "id": "971a60e4-2c94-42c9-ba12-0947658ab7d9",
   "metadata": {},
   "source": [
    "## linalg"
   ]
  },
  {
   "cell_type": "code",
   "execution_count": 94,
   "id": "6bcb7270-bf5a-478a-99f0-a51a5f196e78",
   "metadata": {},
   "outputs": [],
   "source": [
    "arr1 = np.array([[1, 2, 3], [4, 6, 1], [9, 5, 4]])"
   ]
  },
  {
   "cell_type": "code",
   "execution_count": 96,
   "id": "0b0c4f32-77fe-4853-a78d-4d685f1ca29e",
   "metadata": {},
   "outputs": [
    {
     "data": {
      "text/plain": [
       "array([[1, 2, 3],\n",
       "       [4, 6, 1],\n",
       "       [9, 5, 4]])"
      ]
     },
     "execution_count": 96,
     "metadata": {},
     "output_type": "execute_result"
    }
   ],
   "source": [
    "arr1"
   ]
  },
  {
   "cell_type": "code",
   "execution_count": 98,
   "id": "93047b0f-15d9-4129-83b1-261b7d810fd9",
   "metadata": {},
   "outputs": [
    {
     "data": {
      "text/plain": [
       "-97.0"
      ]
     },
     "execution_count": 98,
     "metadata": {},
     "output_type": "execute_result"
    }
   ],
   "source": [
    "np.linalg.det(arr1)"
   ]
  },
  {
   "cell_type": "code",
   "execution_count": 102,
   "id": "3fa92825-a5e7-4081-97ad-a784416886dd",
   "metadata": {},
   "outputs": [
    {
     "data": {
      "text/plain": [
       "array([[-0.19587629, -0.07216495,  0.16494845],\n",
       "       [ 0.07216495,  0.2371134 , -0.11340206],\n",
       "       [ 0.35051546, -0.13402062,  0.02061856]])"
      ]
     },
     "execution_count": 102,
     "metadata": {},
     "output_type": "execute_result"
    }
   ],
   "source": [
    "np.linalg.inv(arr1)"
   ]
  },
  {
   "cell_type": "code",
   "execution_count": 106,
   "id": "f4cf494e-81ff-4d5b-ac33-98f5564303f2",
   "metadata": {},
   "outputs": [],
   "source": [
    "arr2 = np.array([[1, 2], [4, 3]])\n",
    "arr3 = np.array([[5, 10], [1, 1]])"
   ]
  },
  {
   "cell_type": "code",
   "execution_count": 110,
   "id": "a6ea2145-f6a8-4ae0-9c89-a031ac024298",
   "metadata": {},
   "outputs": [
    {
     "data": {
      "text/plain": [
       "array([[ 7, 12],\n",
       "       [23, 43]])"
      ]
     },
     "execution_count": 110,
     "metadata": {},
     "output_type": "execute_result"
    }
   ],
   "source": [
    "arr2 @ arr3"
   ]
  },
  {
   "cell_type": "code",
   "execution_count": 112,
   "id": "a0af2670-d01f-4138-9ddc-c47ba9a15006",
   "metadata": {},
   "outputs": [
    {
     "data": {
      "text/plain": [
       "EigResult(eigenvalues=array([-1.,  5.]), eigenvectors=array([[-0.70710678, -0.4472136 ],\n",
       "       [ 0.70710678, -0.89442719]]))"
      ]
     },
     "execution_count": 112,
     "metadata": {},
     "output_type": "execute_result"
    }
   ],
   "source": [
    "np.linalg.eig(arr2)"
   ]
  },
  {
   "cell_type": "code",
   "execution_count": null,
   "id": "610fd86c-e3ea-4603-b2be-07a8da015614",
   "metadata": {},
   "outputs": [],
   "source": []
  }
 ],
 "metadata": {
  "kernelspec": {
   "display_name": "Python 3 (ipykernel)",
   "language": "python",
   "name": "python3"
  },
  "language_info": {
   "codemirror_mode": {
    "name": "ipython",
    "version": 3
   },
   "file_extension": ".py",
   "mimetype": "text/x-python",
   "name": "python",
   "nbconvert_exporter": "python",
   "pygments_lexer": "ipython3",
   "version": "3.12.4"
  }
 },
 "nbformat": 4,
 "nbformat_minor": 5
}
